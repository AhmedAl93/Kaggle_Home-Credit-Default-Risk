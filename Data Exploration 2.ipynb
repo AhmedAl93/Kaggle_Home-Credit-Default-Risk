{
 "cells": [
  {
   "cell_type": "code",
   "execution_count": 2,
   "metadata": {},
   "outputs": [
    {
     "data": {
      "text/html": [
       "<script>requirejs.config({paths: { 'plotly': ['https://cdn.plot.ly/plotly-latest.min']},});if(!window.Plotly) {{require(['plotly'],function(plotly) {window.Plotly=plotly;});}}</script>"
      ],
      "text/vnd.plotly.v1+html": [
       "<script>requirejs.config({paths: { 'plotly': ['https://cdn.plot.ly/plotly-latest.min']},});if(!window.Plotly) {{require(['plotly'],function(plotly) {window.Plotly=plotly;});}}</script>"
      ]
     },
     "metadata": {},
     "output_type": "display_data"
    },
    {
     "name": "stderr",
     "output_type": "stream",
     "text": [
      "IOPub data rate exceeded.\n",
      "The notebook server will temporarily stop sending output\n",
      "to the client in order to avoid crashing it.\n",
      "To change this limit, set the config variable\n",
      "`--NotebookApp.iopub_data_rate_limit`.\n"
     ]
    }
   ],
   "source": [
    "import pandas as pd # package for high-performance, easy-to-use data structures and data analysis\n",
    "import numpy as np # fundamental package for scientific computing with Python\n",
    "import matplotlib\n",
    "import matplotlib.pyplot as plt # for plotting\n",
    "import seaborn as sns # for making plots with seaborn\n",
    "color = sns.color_palette()\n",
    "import plotly.offline as py\n",
    "from plotly.offline import init_notebook_mode, iplot\n",
    "init_notebook_mode(connected=True)\n",
    "import plotly.graph_objs as go\n",
    "import plotly.offline as offline\n",
    "offline.init_notebook_mode()\n",
    "# from plotly import tools\n",
    "# import plotly.tools as tls\n",
    "# import squarify\n",
    "# from mpl_toolkits.basemap import Basemap\n",
    "# from numpy import array\n",
    "# from matplotlib import cm\n",
    "\n"
   ]
  },
  {
   "cell_type": "code",
   "execution_count": 3,
   "metadata": {},
   "outputs": [
    {
     "name": "stdout",
     "output_type": "stream",
     "text": [
      "Size of application_train data (307511, 122)\n",
      "Size of POS_CASH_balance data (10001358, 8)\n",
      "Size of bureau_balance data (27299925, 3)\n",
      "Size of previous_application data (1670214, 37)\n",
      "Size of installments_payments data (13605401, 8)\n",
      "Size of credit_card_balance data (3840312, 23)\n",
      "Size of bureau data (1716428, 17)\n"
     ]
    }
   ],
   "source": [
    "application_train= pd.read_csv(\"application_train.csv\",',')\n",
    "print('Size of application_train data', application_train.shape)\n",
    "\n",
    "POS_CASH_balance= pd.read_csv(\"POS_CASH_balance.csv\",',')\n",
    "print('Size of POS_CASH_balance data', POS_CASH_balance.shape)\n",
    "\n",
    "bureau_balance= pd.read_csv(\"bureau_balance.csv\",',')\n",
    "print('Size of bureau_balance data', bureau_balance.shape)\n",
    "\n",
    "previous_application= pd.read_csv(\"previous_application.csv\",',')\n",
    "print('Size of previous_application data', previous_application.shape)\n",
    "\n",
    "installments_payments= pd.read_csv(\"installments_payments.csv\",',')\n",
    "print('Size of installments_payments data', installments_payments.shape)\n",
    "\n",
    "credit_card_balance= pd.read_csv(\"credit_card_balance.csv\",',')\n",
    "print('Size of credit_card_balance data', credit_card_balance.shape)\n",
    "\n",
    "bureau= pd.read_csv(\"bureau.csv\",',')\n",
    "print('Size of bureau data', bureau.shape)"
   ]
  },
  {
   "cell_type": "code",
   "execution_count": 8,
   "metadata": {},
   "outputs": [
    {
     "data": {
      "application/vnd.plotly.v1+json": {
       "data": [
        {
         "type": "bar",
         "x": [
          "Unaccompanied",
          "Family",
          "Spouse, partner",
          "Children",
          "Other_B",
          "Other_A",
          "Group of people"
         ],
         "y": [
          81.15956227405876,
          13.11120472602941,
          3.7130289106815715,
          1.0668835049425411,
          0.5780176932195585,
          0.2828041369085524,
          0.08849875415960473
         ]
        }
       ],
       "layout": {
        "title": "Percentage of Client Companions ",
        "xaxis": {
         "tickfont": {
          "color": "rgb(107, 107, 107)",
          "size": 14
         },
         "title": "Name of type of the Suite"
        },
        "yaxis": {
         "tickfont": {
          "color": "rgb(107, 0, 107)",
          "size": 14
         },
         "title": "Count of Name of type of the Suite in %",
         "titlefont": {
          "color": "rgb(107, 0, 107)",
          "size": 16
         }
        }
       }
      },
      "text/html": [
       "<div id=\"07ba219a-ce28-4998-ae14-23ba5331592a\" style=\"height: 525px; width: 100%;\" class=\"plotly-graph-div\"></div><script type=\"text/javascript\">require([\"plotly\"], function(Plotly) { window.PLOTLYENV=window.PLOTLYENV || {};window.PLOTLYENV.BASE_URL=\"https://plot.ly\";Plotly.newPlot(\"07ba219a-ce28-4998-ae14-23ba5331592a\", [{\"type\": \"bar\", \"x\": [\"Unaccompanied\", \"Family\", \"Spouse, partner\", \"Children\", \"Other_B\", \"Other_A\", \"Group of people\"], \"y\": [81.15956227405876, 13.11120472602941, 3.7130289106815715, 1.0668835049425411, 0.5780176932195585, 0.2828041369085524, 0.08849875415960473]}], {\"title\": \"Percentage of Client Companions \", \"xaxis\": {\"title\": \"Name of type of the Suite\", \"tickfont\": {\"size\": 14, \"color\": \"rgb(107, 107, 107)\"}}, \"yaxis\": {\"title\": \"Count of Name of type of the Suite in %\", \"titlefont\": {\"size\": 16, \"color\": \"rgb(107, 0, 107)\"}, \"tickfont\": {\"size\": 14, \"color\": \"rgb(107, 0, 107)\"}}}, {\"showLink\": true, \"linkText\": \"Export to plot.ly\"})});</script>"
      ],
      "text/vnd.plotly.v1+html": [
       "<div id=\"07ba219a-ce28-4998-ae14-23ba5331592a\" style=\"height: 525px; width: 100%;\" class=\"plotly-graph-div\"></div><script type=\"text/javascript\">require([\"plotly\"], function(Plotly) { window.PLOTLYENV=window.PLOTLYENV || {};window.PLOTLYENV.BASE_URL=\"https://plot.ly\";Plotly.newPlot(\"07ba219a-ce28-4998-ae14-23ba5331592a\", [{\"type\": \"bar\", \"x\": [\"Unaccompanied\", \"Family\", \"Spouse, partner\", \"Children\", \"Other_B\", \"Other_A\", \"Group of people\"], \"y\": [81.15956227405876, 13.11120472602941, 3.7130289106815715, 1.0668835049425411, 0.5780176932195585, 0.2828041369085524, 0.08849875415960473]}], {\"title\": \"Percentage of Client Companions \", \"xaxis\": {\"title\": \"Name of type of the Suite\", \"tickfont\": {\"size\": 14, \"color\": \"rgb(107, 107, 107)\"}}, \"yaxis\": {\"title\": \"Count of Name of type of the Suite in %\", \"titlefont\": {\"size\": 16, \"color\": \"rgb(107, 0, 107)\"}, \"tickfont\": {\"size\": 14, \"color\": \"rgb(107, 0, 107)\"}}}, {\"showLink\": true, \"linkText\": \"Export to plot.ly\"})});</script>"
      ]
     },
     "metadata": {},
     "output_type": "display_data"
    }
   ],
   "source": [
    "######### client Companion when applying for the application ##############\n",
    "\n",
    "temp = application_train[\"NAME_TYPE_SUITE\"].value_counts()\n",
    "\n",
    "trace = go.Bar(\n",
    "    x = temp.index,\n",
    "    y = (temp / temp.sum())*100,\n",
    ")\n",
    "data = [trace]\n",
    "layout = go.Layout(\n",
    "    title = \"Percentage of Client Companions \",\n",
    "    xaxis=dict(\n",
    "        title='Name of type of the Suite',\n",
    "        tickfont=dict(\n",
    "            size=14,\n",
    "            color='rgb(107, 107, 107)'\n",
    "        )\n",
    "    ),\n",
    "    yaxis=dict(\n",
    "        title='Count of Name of type of the Suite in %',\n",
    "        titlefont=dict(\n",
    "            size=16,\n",
    "            color='rgb(107, 0, 107)'\n",
    "        ),\n",
    "        tickfont=dict(\n",
    "            size=14,\n",
    "            color='rgb(107, 0, 107)'\n",
    "        )\n",
    ")\n",
    ")\n",
    "fig = go.Figure(data=data, layout=layout)\n",
    "py.iplot(fig, filename='schoolStateNames')"
   ]
  },
  {
   "cell_type": "code",
   "execution_count": 30,
   "metadata": {},
   "outputs": [
    {
     "data": {
      "image/png": "[encoded data removed]",
      "text/plain": [
       "<matplotlib.figure.Figure at 0x20b8ca046a0>"
      ]
     },
     "metadata": {},
     "output_type": "display_data"
    }
   ],
   "source": [
    "########### Data is balanced or imbalanced ############\n",
    "\n",
    "temp = application_train[\"TARGET\"].value_counts()\n",
    "df = pd.DataFrame({'labels': temp.index,\n",
    "                   'values': temp.values\n",
    "                  })\n",
    "df.plot.pie(y='values', title='Loan Repayed or not')\n",
    "plt.show()"
   ]
  },
  {
   "cell_type": "code",
   "execution_count": 31,
   "metadata": {},
   "outputs": [
    {
     "data": {
      "application/vnd.plotly.v1+json": {
       "data": [
        {
         "domain": {
          "x": [
           0,
           0.48
          ]
         },
         "hole": 0.7,
         "labels": [
          "Cash loans",
          "Revolving loans"
         ],
         "type": "pie",
         "values": [
          278232,
          29279
         ]
        }
       ],
       "layout": {
        "annotations": [
         {
          "font": {
           "size": 20
          },
          "showarrow": false,
          "text": "Loan Types",
          "x": 0.17,
          "y": 0.5
         }
        ],
        "title": "Types of loan"
       }
      },
      "text/html": [
       "<div id=\"26808927-07e1-43e6-99d4-0cd0bce6c047\" style=\"height: 525px; width: 100%;\" class=\"plotly-graph-div\"></div><script type=\"text/javascript\">require([\"plotly\"], function(Plotly) { window.PLOTLYENV=window.PLOTLYENV || {};window.PLOTLYENV.BASE_URL=\"https://plot.ly\";Plotly.newPlot(\"26808927-07e1-43e6-99d4-0cd0bce6c047\", [{\"values\": [278232, 29279], \"labels\": [\"Cash loans\", \"Revolving loans\"], \"domain\": {\"x\": [0, 0.48]}, \"hole\": 0.7, \"type\": \"pie\"}], {\"title\": \"Types of loan\", \"annotations\": [{\"font\": {\"size\": 20}, \"showarrow\": false, \"text\": \"Loan Types\", \"x\": 0.17, \"y\": 0.5}]}, {\"showLink\": true, \"linkText\": \"Export to plot.ly\"})});</script>"
      ],
      "text/vnd.plotly.v1+html": [
       "<div id=\"26808927-07e1-43e6-99d4-0cd0bce6c047\" style=\"height: 525px; width: 100%;\" class=\"plotly-graph-div\"></div><script type=\"text/javascript\">require([\"plotly\"], function(Plotly) { window.PLOTLYENV=window.PLOTLYENV || {};window.PLOTLYENV.BASE_URL=\"https://plot.ly\";Plotly.newPlot(\"26808927-07e1-43e6-99d4-0cd0bce6c047\", [{\"values\": [278232, 29279], \"labels\": [\"Cash loans\", \"Revolving loans\"], \"domain\": {\"x\": [0, 0.48]}, \"hole\": 0.7, \"type\": \"pie\"}], {\"title\": \"Types of loan\", \"annotations\": [{\"font\": {\"size\": 20}, \"showarrow\": false, \"text\": \"Loan Types\", \"x\": 0.17, \"y\": 0.5}]}, {\"showLink\": true, \"linkText\": \"Export to plot.ly\"})});</script>"
      ]
     },
     "metadata": {},
     "output_type": "display_data"
    }
   ],
   "source": [
    "######### checking out the Types of loan proposed by Credit Bureau\n",
    "\n",
    "temp = application_train[\"NAME_CONTRACT_TYPE\"].value_counts()\n",
    "fig = {\n",
    "  \"data\": [\n",
    "    {\n",
    "      \"values\": temp.values,\n",
    "      \"labels\": temp.index,\n",
    "      \"domain\": {\"x\": [0, .48]},\n",
    "      #\"name\": \"Types of Loans\",\n",
    "      #\"hoverinfo\":\"label+percent+name\",\n",
    "      \"hole\": .7,\n",
    "      \"type\": \"pie\"\n",
    "    },\n",
    "    \n",
    "    ],\n",
    "  \"layout\": {\n",
    "        \"title\":\"Types of loan\",\n",
    "        \"annotations\": [\n",
    "            {\n",
    "                \"font\": {\n",
    "                    \"size\": 20\n",
    "                },\n",
    "                \"showarrow\": False,\n",
    "                \"text\": \"Loan Types\",\n",
    "                \"x\": 0.17,\n",
    "                \"y\": 0.5\n",
    "            }\n",
    "            \n",
    "        ]\n",
    "    }\n",
    "}\n",
    "iplot(fig, filename='donut')"
   ]
  },
  {
   "cell_type": "code",
   "execution_count": 32,
   "metadata": {},
   "outputs": [
    {
     "data": {
      "application/vnd.plotly.v1+json": {
       "data": [
        {
         "domain": {
          "x": [
           0,
           0.48
          ]
         },
         "hole": 0.6,
         "hoverinfo": "label+percent+name",
         "labels": [
          "N",
          "Y"
         ],
         "name": "Own Car",
         "type": "pie",
         "values": [
          202924,
          104587
         ]
        },
        {
         "domain": {
          "x": [
           0.52,
           1
          ]
         },
         "hole": 0.6,
         "hoverinfo": "label+percent+name",
         "labels": [
          "Y",
          "N"
         ],
         "name": "Own Reality",
         "text": "Own Realty",
         "textposition": "inside",
         "type": "pie",
         "values": [
          213312,
          94199
         ]
        }
       ],
       "layout": {
        "annotations": [
         {
          "font": {
           "size": 20
          },
          "showarrow": false,
          "text": "Own Car",
          "x": 0.2,
          "y": 0.5
         },
         {
          "font": {
           "size": 20
          },
          "showarrow": false,
          "text": "Own Realty",
          "x": 0.8,
          "y": 0.5
         }
        ],
        "title": "Purpose of loan"
       }
      },
      "text/html": [
       "<div id=\"cfcad3e4-1116-48f1-9826-0700c87ebf64\" style=\"height: 525px; width: 100%;\" class=\"plotly-graph-div\"></div><script type=\"text/javascript\">require([\"plotly\"], function(Plotly) { window.PLOTLYENV=window.PLOTLYENV || {};window.PLOTLYENV.BASE_URL=\"https://plot.ly\";Plotly.newPlot(\"cfcad3e4-1116-48f1-9826-0700c87ebf64\", [{\"values\": [202924, 104587], \"labels\": [\"N\", \"Y\"], \"domain\": {\"x\": [0, 0.48]}, \"name\": \"Own Car\", \"hoverinfo\": \"label+percent+name\", \"hole\": 0.6, \"type\": \"pie\"}, {\"values\": [213312, 94199], \"labels\": [\"Y\", \"N\"], \"text\": \"Own Realty\", \"textposition\": \"inside\", \"domain\": {\"x\": [0.52, 1]}, \"name\": \"Own Reality\", \"hoverinfo\": \"label+percent+name\", \"hole\": 0.6, \"type\": \"pie\"}], {\"title\": \"Purpose of loan\", \"annotations\": [{\"font\": {\"size\": 20}, \"showarrow\": false, \"text\": \"Own Car\", \"x\": 0.2, \"y\": 0.5}, {\"font\": {\"size\": 20}, \"showarrow\": false, \"text\": \"Own Realty\", \"x\": 0.8, \"y\": 0.5}]}, {\"showLink\": true, \"linkText\": \"Export to plot.ly\"})});</script>"
      ],
      "text/vnd.plotly.v1+html": [
       "<div id=\"cfcad3e4-1116-48f1-9826-0700c87ebf64\" style=\"height: 525px; width: 100%;\" class=\"plotly-graph-div\"></div><script type=\"text/javascript\">require([\"plotly\"], function(Plotly) { window.PLOTLYENV=window.PLOTLYENV || {};window.PLOTLYENV.BASE_URL=\"https://plot.ly\";Plotly.newPlot(\"cfcad3e4-1116-48f1-9826-0700c87ebf64\", [{\"values\": [202924, 104587], \"labels\": [\"N\", \"Y\"], \"domain\": {\"x\": [0, 0.48]}, \"name\": \"Own Car\", \"hoverinfo\": \"label+percent+name\", \"hole\": 0.6, \"type\": \"pie\"}, {\"values\": [213312, 94199], \"labels\": [\"Y\", \"N\"], \"text\": \"Own Realty\", \"textposition\": \"inside\", \"domain\": {\"x\": [0.52, 1]}, \"name\": \"Own Reality\", \"hoverinfo\": \"label+percent+name\", \"hole\": 0.6, \"type\": \"pie\"}], {\"title\": \"Purpose of loan\", \"annotations\": [{\"font\": {\"size\": 20}, \"showarrow\": false, \"text\": \"Own Car\", \"x\": 0.2, \"y\": 0.5}, {\"font\": {\"size\": 20}, \"showarrow\": false, \"text\": \"Own Realty\", \"x\": 0.8, \"y\": 0.5}]}, {\"showLink\": true, \"linkText\": \"Export to plot.ly\"})});</script>"
      ]
     },
     "metadata": {},
     "output_type": "display_data"
    }
   ],
   "source": [
    "########## What's the purpose of loans ?\n",
    "temp1 = application_train[\"FLAG_OWN_CAR\"].value_counts()\n",
    "temp2 = application_train[\"FLAG_OWN_REALTY\"].value_counts()\n",
    "\n",
    "fig = {\n",
    "  \"data\": [\n",
    "    {\n",
    "      \"values\": temp1.values,\n",
    "      \"labels\": temp1.index,\n",
    "      \"domain\": {\"x\": [0, .48]},\n",
    "      \"name\": \"Own Car\",\n",
    "      \"hoverinfo\":\"label+percent+name\",\n",
    "      \"hole\": .6,\n",
    "      \"type\": \"pie\"\n",
    "    },\n",
    "    {\n",
    "      \"values\": temp2.values,\n",
    "      \"labels\": temp2.index,\n",
    "      \"text\":\"Own Realty\",\n",
    "      \"textposition\":\"inside\",\n",
    "      \"domain\": {\"x\": [.52, 1]},\n",
    "      \"name\": \"Own Reality\",\n",
    "      \"hoverinfo\":\"label+percent+name\",\n",
    "      \"hole\": .6,\n",
    "      \"type\": \"pie\"\n",
    "    }],\n",
    "  \"layout\": {\n",
    "        \"title\":\"Purpose of loan\",\n",
    "        \"annotations\": [\n",
    "            {\n",
    "                \"font\": {\n",
    "                    \"size\": 20\n",
    "                },\n",
    "                \"showarrow\": False,\n",
    "                \"text\": \"Own Car\",\n",
    "                \"x\": 0.20,\n",
    "                \"y\": 0.5\n",
    "            },\n",
    "            {\n",
    "                \"font\": {\n",
    "                    \"size\": 20\n",
    "                },\n",
    "                \"showarrow\": False,\n",
    "                \"text\": \"Own Realty\",\n",
    "                \"x\": 0.8,\n",
    "                \"y\": 0.5\n",
    "            }\n",
    "        ]\n",
    "    }\n",
    "}\n",
    "iplot(fig, filename='donut')"
   ]
  },
  {
   "cell_type": "code",
   "execution_count": 35,
   "metadata": {},
   "outputs": [
    {
     "data": {
      "application/vnd.plotly.v1+json": {
       "data": [
        {
         "domain": {
          "x": [
           0,
           0.48
          ]
         },
         "hole": 0.7,
         "labels": [
          "Working",
          "Commercial associate",
          "Pensioner",
          "State servant",
          "Unemployed",
          "Student",
          "Businessman",
          "Maternity leave"
         ],
         "type": "pie",
         "values": [
          158774,
          71617,
          55362,
          21703,
          22,
          18,
          10,
          5
         ]
        }
       ],
       "layout": {
        "annotations": [
         {
          "font": {
           "size": 20
          },
          "showarrow": false,
          "text": "Income Types",
          "x": 0.17,
          "y": 0.5
         }
        ],
        "title": "Income sources of Applicant"
       }
      },
      "text/html": [
       "<div id=\"f37224b2-16b0-4520-a39a-59887a7e4e82\" style=\"height: 525px; width: 100%;\" class=\"plotly-graph-div\"></div><script type=\"text/javascript\">require([\"plotly\"], function(Plotly) { window.PLOTLYENV=window.PLOTLYENV || {};window.PLOTLYENV.BASE_URL=\"https://plot.ly\";Plotly.newPlot(\"f37224b2-16b0-4520-a39a-59887a7e4e82\", [{\"values\": [158774, 71617, 55362, 21703, 22, 18, 10, 5], \"labels\": [\"Working\", \"Commercial associate\", \"Pensioner\", \"State servant\", \"Unemployed\", \"Student\", \"Businessman\", \"Maternity leave\"], \"domain\": {\"x\": [0, 0.48]}, \"hole\": 0.7, \"type\": \"pie\"}], {\"title\": \"Income sources of Applicant\", \"annotations\": [{\"font\": {\"size\": 20}, \"showarrow\": false, \"text\": \"Income Types\", \"x\": 0.17, \"y\": 0.5}]}, {\"showLink\": true, \"linkText\": \"Export to plot.ly\"})});</script>"
      ],
      "text/vnd.plotly.v1+html": [
       "<div id=\"f37224b2-16b0-4520-a39a-59887a7e4e82\" style=\"height: 525px; width: 100%;\" class=\"plotly-graph-div\"></div><script type=\"text/javascript\">require([\"plotly\"], function(Plotly) { window.PLOTLYENV=window.PLOTLYENV || {};window.PLOTLYENV.BASE_URL=\"https://plot.ly\";Plotly.newPlot(\"f37224b2-16b0-4520-a39a-59887a7e4e82\", [{\"values\": [158774, 71617, 55362, 21703, 22, 18, 10, 5], \"labels\": [\"Working\", \"Commercial associate\", \"Pensioner\", \"State servant\", \"Unemployed\", \"Student\", \"Businessman\", \"Maternity leave\"], \"domain\": {\"x\": [0, 0.48]}, \"hole\": 0.7, \"type\": \"pie\"}], {\"title\": \"Income sources of Applicant\", \"annotations\": [{\"font\": {\"size\": 20}, \"showarrow\": false, \"text\": \"Income Types\", \"x\": 0.17, \"y\": 0.5}]}, {\"showLink\": true, \"linkText\": \"Export to plot.ly\"})});</script>"
      ]
     },
     "metadata": {},
     "output_type": "display_data"
    }
   ],
   "source": [
    "temp = application_train[\"NAME_INCOME_TYPE\"].value_counts()\n",
    "fig = {\n",
    "  \"data\": [\n",
    "    {\n",
    "      \"values\": temp.values,\n",
    "      \"labels\": temp.index,\n",
    "      \"domain\": {\"x\": [0, .48]},\n",
    "      \"hole\": .7,\n",
    "      \"type\": \"pie\"\n",
    "    },\n",
    "    \n",
    "    ],\n",
    "  \"layout\": {\n",
    "        \"title\":\"Income sources of Applicant\",\n",
    "        \"annotations\": [\n",
    "            {\n",
    "                \"font\": {\n",
    "                    \"size\": 20\n",
    "                },\n",
    "                \"showarrow\": False,\n",
    "                \"text\": \"Income Types\",\n",
    "                \"x\": 0.17,\n",
    "                \"y\": 0.5\n",
    "            }\n",
    "            \n",
    "        ]\n",
    "    }\n",
    "}\n",
    "iplot(fig, filename='donut')\n"
   ]
  },
  {
   "cell_type": "code",
   "execution_count": 36,
   "metadata": {},
   "outputs": [
    {
     "data": {
      "application/vnd.plotly.v1+json": {
       "data": [
        {
         "domain": {
          "x": [
           0,
           0.48
          ]
         },
         "hole": 0.7,
         "labels": [
          "Married",
          "Single / not married",
          "Civil marriage",
          "Separated",
          "Widow",
          "Unknown"
         ],
         "type": "pie",
         "values": [
          196432,
          45444,
          29775,
          19770,
          16088,
          2
         ]
        }
       ],
       "layout": {
        "annotations": [
         {
          "font": {
           "size": 20
          },
          "showarrow": false,
          "text": "Civil Status",
          "x": 0.17,
          "y": 0.5
         }
        ],
        "title": "Applicant Civil Status"
       }
      },
      "text/html": [
       "<div id=\"ecf5b6db-93f0-49a3-93ae-eeeb2a2a9db5\" style=\"height: 525px; width: 100%;\" class=\"plotly-graph-div\"></div><script type=\"text/javascript\">require([\"plotly\"], function(Plotly) { window.PLOTLYENV=window.PLOTLYENV || {};window.PLOTLYENV.BASE_URL=\"https://plot.ly\";Plotly.newPlot(\"ecf5b6db-93f0-49a3-93ae-eeeb2a2a9db5\", [{\"values\": [196432, 45444, 29775, 19770, 16088, 2], \"labels\": [\"Married\", \"Single / not married\", \"Civil marriage\", \"Separated\", \"Widow\", \"Unknown\"], \"domain\": {\"x\": [0, 0.48]}, \"hole\": 0.7, \"type\": \"pie\"}], {\"title\": \"Applicant Civil Status\", \"annotations\": [{\"font\": {\"size\": 20}, \"showarrow\": false, \"text\": \"Civil Status\", \"x\": 0.17, \"y\": 0.5}]}, {\"showLink\": true, \"linkText\": \"Export to plot.ly\"})});</script>"
      ],
      "text/vnd.plotly.v1+html": [
       "<div id=\"ecf5b6db-93f0-49a3-93ae-eeeb2a2a9db5\" style=\"height: 525px; width: 100%;\" class=\"plotly-graph-div\"></div><script type=\"text/javascript\">require([\"plotly\"], function(Plotly) { window.PLOTLYENV=window.PLOTLYENV || {};window.PLOTLYENV.BASE_URL=\"https://plot.ly\";Plotly.newPlot(\"ecf5b6db-93f0-49a3-93ae-eeeb2a2a9db5\", [{\"values\": [196432, 45444, 29775, 19770, 16088, 2], \"labels\": [\"Married\", \"Single / not married\", \"Civil marriage\", \"Separated\", \"Widow\", \"Unknown\"], \"domain\": {\"x\": [0, 0.48]}, \"hole\": 0.7, \"type\": \"pie\"}], {\"title\": \"Applicant Civil Status\", \"annotations\": [{\"font\": {\"size\": 20}, \"showarrow\": false, \"text\": \"Civil Status\", \"x\": 0.17, \"y\": 0.5}]}, {\"showLink\": true, \"linkText\": \"Export to plot.ly\"})});</script>"
      ]
     },
     "metadata": {},
     "output_type": "display_data"
    }
   ],
   "source": [
    "temp = application_train[\"NAME_FAMILY_STATUS\"].value_counts()\n",
    "fig = {\n",
    "  \"data\": [\n",
    "    {\n",
    "      \"values\": temp.values,\n",
    "      \"labels\": temp.index,\n",
    "      \"domain\": {\"x\": [0, .48]},\n",
    "      \"hole\": .7,\n",
    "      \"type\": \"pie\"\n",
    "    },\n",
    "    \n",
    "    ],\n",
    "  \"layout\": {\n",
    "        \"title\":\"Applicant Civil Status\",\n",
    "        \"annotations\": [\n",
    "            {\n",
    "                \"font\": {\n",
    "                    \"size\": 20\n",
    "                },\n",
    "                \"showarrow\": False,\n",
    "                \"text\": \"Civil Status\",\n",
    "                \"x\": 0.17,\n",
    "                \"y\": 0.5\n",
    "            }\n",
    "            \n",
    "        ]\n",
    "    }\n",
    "}\n",
    "iplot(fig, filename='donut')"
   ]
  },
  {
   "cell_type": "code",
   "execution_count": 42,
   "metadata": {},
   "outputs": [
    {
     "data": {
      "application/vnd.plotly.v1+json": {
       "data": [
        {
         "domain": {
          "x": [
           0,
           0.48
          ]
         },
         "hole": 0.7,
         "labels": [
          "Laborers",
          "Sales staff",
          "Core staff",
          "Managers",
          "Drivers",
          "High skill tech staff",
          "Accountants",
          "Medicine staff",
          "Security staff",
          "Cooking staff",
          "Cleaning staff",
          "Private service staff",
          "Low-skill Laborers",
          "Waiters/barmen staff",
          "Secretaries",
          "Realty agents",
          "HR staff",
          "IT staff"
         ],
         "type": "pie",
         "values": [
          55186,
          32102,
          27570,
          21371,
          18603,
          11380,
          9813,
          8537,
          6721,
          5946,
          4653,
          2652,
          2093,
          1348,
          1305,
          751,
          563,
          526
         ]
        }
       ],
       "layout": {
        "annotations": [
         {
          "font": {
           "size": 20
          },
          "showarrow": false,
          "text": "Professional Status",
          "x": 0.17,
          "y": 0.5
         }
        ],
        "title": "Occupation of Applicant"
       }
      },
      "text/html": [
       "<div id=\"7994c5d5-2feb-4b9b-9f11-e66625773612\" style=\"height: 525px; width: 100%;\" class=\"plotly-graph-div\"></div><script type=\"text/javascript\">require([\"plotly\"], function(Plotly) { window.PLOTLYENV=window.PLOTLYENV || {};window.PLOTLYENV.BASE_URL=\"https://plot.ly\";Plotly.newPlot(\"7994c5d5-2feb-4b9b-9f11-e66625773612\", [{\"values\": [55186, 32102, 27570, 21371, 18603, 11380, 9813, 8537, 6721, 5946, 4653, 2652, 2093, 1348, 1305, 751, 563, 526], \"labels\": [\"Laborers\", \"Sales staff\", \"Core staff\", \"Managers\", \"Drivers\", \"High skill tech staff\", \"Accountants\", \"Medicine staff\", \"Security staff\", \"Cooking staff\", \"Cleaning staff\", \"Private service staff\", \"Low-skill Laborers\", \"Waiters/barmen staff\", \"Secretaries\", \"Realty agents\", \"HR staff\", \"IT staff\"], \"domain\": {\"x\": [0, 0.48]}, \"hole\": 0.7, \"type\": \"pie\"}], {\"title\": \"Occupation of Applicant\", \"annotations\": [{\"font\": {\"size\": 20}, \"showarrow\": false, \"text\": \"Professional Status\", \"x\": 0.17, \"y\": 0.5}]}, {\"showLink\": true, \"linkText\": \"Export to plot.ly\"})});</script>"
      ],
      "text/vnd.plotly.v1+html": [
       "<div id=\"7994c5d5-2feb-4b9b-9f11-e66625773612\" style=\"height: 525px; width: 100%;\" class=\"plotly-graph-div\"></div><script type=\"text/javascript\">require([\"plotly\"], function(Plotly) { window.PLOTLYENV=window.PLOTLYENV || {};window.PLOTLYENV.BASE_URL=\"https://plot.ly\";Plotly.newPlot(\"7994c5d5-2feb-4b9b-9f11-e66625773612\", [{\"values\": [55186, 32102, 27570, 21371, 18603, 11380, 9813, 8537, 6721, 5946, 4653, 2652, 2093, 1348, 1305, 751, 563, 526], \"labels\": [\"Laborers\", \"Sales staff\", \"Core staff\", \"Managers\", \"Drivers\", \"High skill tech staff\", \"Accountants\", \"Medicine staff\", \"Security staff\", \"Cooking staff\", \"Cleaning staff\", \"Private service staff\", \"Low-skill Laborers\", \"Waiters/barmen staff\", \"Secretaries\", \"Realty agents\", \"HR staff\", \"IT staff\"], \"domain\": {\"x\": [0, 0.48]}, \"hole\": 0.7, \"type\": \"pie\"}], {\"title\": \"Occupation of Applicant\", \"annotations\": [{\"font\": {\"size\": 20}, \"showarrow\": false, \"text\": \"Professional Status\", \"x\": 0.17, \"y\": 0.5}]}, {\"showLink\": true, \"linkText\": \"Export to plot.ly\"})});</script>"
      ]
     },
     "metadata": {},
     "output_type": "display_data"
    }
   ],
   "source": [
    "temp = application_train[\"OCCUPATION_TYPE\"].value_counts()\n",
    "fig = {\n",
    "  \"data\": [\n",
    "    {\n",
    "      \"values\": temp.values,\n",
    "      \"labels\": temp.index,\n",
    "      \"domain\": {\"x\": [0, .48]},\n",
    "      \"hole\": .7,\n",
    "      \"type\": \"pie\"\n",
    "    },\n",
    "    \n",
    "    ],\n",
    "  \"layout\": {\n",
    "        \"title\":\"Occupation of Applicant\",\n",
    "        \"annotations\": [\n",
    "            {\n",
    "                \"font\": {\n",
    "                    \"size\": 20\n",
    "                },\n",
    "                \"showarrow\": False,\n",
    "                \"text\": \"Professional Status\",\n",
    "                \"x\": 0.17,\n",
    "                \"y\": 0.5\n",
    "            }\n",
    "            \n",
    "        ]\n",
    "    }\n",
    "}\n",
    "iplot(fig, filename='donut')"
   ]
  },
  {
   "cell_type": "code",
   "execution_count": 43,
   "metadata": {},
   "outputs": [
    {
     "data": {
      "application/vnd.plotly.v1+json": {
       "data": [
        {
         "domain": {
          "x": [
           0,
           0.48
          ]
         },
         "hole": 0.7,
         "labels": [
          "Secondary / secondary special",
          "Higher education",
          "Incomplete higher",
          "Lower secondary",
          "Academic degree"
         ],
         "type": "pie",
         "values": [
          218391,
          74863,
          10277,
          3816,
          164
         ]
        }
       ],
       "layout": {
        "annotations": [
         {
          "font": {
           "size": 20
          },
          "showarrow": false,
          "text": "Education Type",
          "x": 0.17,
          "y": 0.5
         }
        ],
        "title": "Applicant Education Level"
       }
      },
      "text/html": [
       "<div id=\"509f46ae-c4d0-4658-b320-d2c25f78e423\" style=\"height: 525px; width: 100%;\" class=\"plotly-graph-div\"></div><script type=\"text/javascript\">require([\"plotly\"], function(Plotly) { window.PLOTLYENV=window.PLOTLYENV || {};window.PLOTLYENV.BASE_URL=\"https://plot.ly\";Plotly.newPlot(\"509f46ae-c4d0-4658-b320-d2c25f78e423\", [{\"values\": [218391, 74863, 10277, 3816, 164], \"labels\": [\"Secondary / secondary special\", \"Higher education\", \"Incomplete higher\", \"Lower secondary\", \"Academic degree\"], \"domain\": {\"x\": [0, 0.48]}, \"hole\": 0.7, \"type\": \"pie\"}], {\"title\": \"Applicant Education Level\", \"annotations\": [{\"font\": {\"size\": 20}, \"showarrow\": false, \"text\": \"Education Type\", \"x\": 0.17, \"y\": 0.5}]}, {\"showLink\": true, \"linkText\": \"Export to plot.ly\"})});</script>"
      ],
      "text/vnd.plotly.v1+html": [
       "<div id=\"509f46ae-c4d0-4658-b320-d2c25f78e423\" style=\"height: 525px; width: 100%;\" class=\"plotly-graph-div\"></div><script type=\"text/javascript\">require([\"plotly\"], function(Plotly) { window.PLOTLYENV=window.PLOTLYENV || {};window.PLOTLYENV.BASE_URL=\"https://plot.ly\";Plotly.newPlot(\"509f46ae-c4d0-4658-b320-d2c25f78e423\", [{\"values\": [218391, 74863, 10277, 3816, 164], \"labels\": [\"Secondary / secondary special\", \"Higher education\", \"Incomplete higher\", \"Lower secondary\", \"Academic degree\"], \"domain\": {\"x\": [0, 0.48]}, \"hole\": 0.7, \"type\": \"pie\"}], {\"title\": \"Applicant Education Level\", \"annotations\": [{\"font\": {\"size\": 20}, \"showarrow\": false, \"text\": \"Education Type\", \"x\": 0.17, \"y\": 0.5}]}, {\"showLink\": true, \"linkText\": \"Export to plot.ly\"})});</script>"
      ]
     },
     "metadata": {},
     "output_type": "display_data"
    }
   ],
   "source": [
    "temp = application_train[\"NAME_EDUCATION_TYPE\"].value_counts()\n",
    "fig = {\n",
    "  \"data\": [\n",
    "    {\n",
    "      \"values\": temp.values,\n",
    "      \"labels\": temp.index,\n",
    "      \"domain\": {\"x\": [0, .48]},\n",
    "      \"hole\": .7,\n",
    "      \"type\": \"pie\"\n",
    "    },\n",
    "    \n",
    "    ],\n",
    "  \"layout\": {\n",
    "        \"title\":\"Applicant Education Level\",\n",
    "        \"annotations\": [\n",
    "            {\n",
    "                \"font\": {\n",
    "                    \"size\": 20\n",
    "                },\n",
    "                \"showarrow\": False,\n",
    "                \"text\": \"Education Type\",\n",
    "                \"x\": 0.17,\n",
    "                \"y\": 0.5\n",
    "            }\n",
    "            \n",
    "        ]\n",
    "    }\n",
    "}\n",
    "iplot(fig, filename='donut')\n"
   ]
  },
  {
   "cell_type": "code",
   "execution_count": 44,
   "metadata": {},
   "outputs": [
    {
     "data": {
      "application/vnd.plotly.v1+json": {
       "data": [
        {
         "domain": {
          "x": [
           0,
           0.48
          ]
         },
         "hole": 0.7,
         "labels": [
          "House / apartment",
          "With parents",
          "Municipal apartment",
          "Rented apartment",
          "Office apartment",
          "Co-op apartment"
         ],
         "type": "pie",
         "values": [
          272868,
          14840,
          11183,
          4881,
          2617,
          1122
         ]
        }
       ],
       "layout": {
        "annotations": [
         {
          "font": {
           "size": 20
          },
          "showarrow": false,
          "text": "House Type",
          "x": 0.17,
          "y": 0.5
         }
        ],
        "title": "Applicant Housing Type"
       }
      },
      "text/html": [
       "<div id=\"566da900-6cb6-4074-965c-e80fd287e603\" style=\"height: 525px; width: 100%;\" class=\"plotly-graph-div\"></div><script type=\"text/javascript\">require([\"plotly\"], function(Plotly) { window.PLOTLYENV=window.PLOTLYENV || {};window.PLOTLYENV.BASE_URL=\"https://plot.ly\";Plotly.newPlot(\"566da900-6cb6-4074-965c-e80fd287e603\", [{\"values\": [272868, 14840, 11183, 4881, 2617, 1122], \"labels\": [\"House / apartment\", \"With parents\", \"Municipal apartment\", \"Rented apartment\", \"Office apartment\", \"Co-op apartment\"], \"domain\": {\"x\": [0, 0.48]}, \"hole\": 0.7, \"type\": \"pie\"}], {\"title\": \"Applicant Housing Type\", \"annotations\": [{\"font\": {\"size\": 20}, \"showarrow\": false, \"text\": \"House Type\", \"x\": 0.17, \"y\": 0.5}]}, {\"showLink\": true, \"linkText\": \"Export to plot.ly\"})});</script>"
      ],
      "text/vnd.plotly.v1+html": [
       "<div id=\"566da900-6cb6-4074-965c-e80fd287e603\" style=\"height: 525px; width: 100%;\" class=\"plotly-graph-div\"></div><script type=\"text/javascript\">require([\"plotly\"], function(Plotly) { window.PLOTLYENV=window.PLOTLYENV || {};window.PLOTLYENV.BASE_URL=\"https://plot.ly\";Plotly.newPlot(\"566da900-6cb6-4074-965c-e80fd287e603\", [{\"values\": [272868, 14840, 11183, 4881, 2617, 1122], \"labels\": [\"House / apartment\", \"With parents\", \"Municipal apartment\", \"Rented apartment\", \"Office apartment\", \"Co-op apartment\"], \"domain\": {\"x\": [0, 0.48]}, \"hole\": 0.7, \"type\": \"pie\"}], {\"title\": \"Applicant Housing Type\", \"annotations\": [{\"font\": {\"size\": 20}, \"showarrow\": false, \"text\": \"House Type\", \"x\": 0.17, \"y\": 0.5}]}, {\"showLink\": true, \"linkText\": \"Export to plot.ly\"})});</script>"
      ]
     },
     "metadata": {},
     "output_type": "display_data"
    }
   ],
   "source": [
    "\n",
    "temp = application_train[\"NAME_HOUSING_TYPE\"].value_counts()\n",
    "fig = {\n",
    "  \"data\": [\n",
    "    {\n",
    "      \"values\": temp.values,\n",
    "      \"labels\": temp.index,\n",
    "      \"domain\": {\"x\": [0, .48]},\n",
    "      \"hole\": .7,\n",
    "      \"type\": \"pie\"\n",
    "    },\n",
    "    \n",
    "    ],\n",
    "  \"layout\": {\n",
    "        \"title\":\"Applicant Housing Type\",\n",
    "        \"annotations\": [\n",
    "            {\n",
    "                \"font\": {\n",
    "                    \"size\": 20\n",
    "                },\n",
    "                \"showarrow\": False,\n",
    "                \"text\": \"House Type\",\n",
    "                \"x\": 0.17,\n",
    "                \"y\": 0.5\n",
    "            }\n",
    "            \n",
    "        ]\n",
    "    }\n",
    "}\n",
    "iplot(fig, filename='donut')"
   ]
  },
  {
   "cell_type": "code",
   "execution_count": 58,
   "metadata": {},
   "outputs": [
    {
     "data": {
      "application/vnd.plotly.v1+json": {
       "data": [
        {
         "marker": {
          "color": "rgb(158,202,225)",
          "line": {
           "color": "rgb(8,48,107)",
           "width": 1.5
          }
         },
         "opacity": 0.6,
         "type": "bar",
         "x": [
          "Business Entity Type 3",
          "XNA",
          "Self-employed",
          "Other",
          "Medicine",
          "Business Entity Type 2",
          "Government",
          "School",
          "Trade: type 7",
          "Kindergarten",
          "Construction",
          "Business Entity Type 1",
          "Transport: type 4",
          "Trade: type 3",
          "Industry: type 9",
          "Industry: type 3",
          "Security",
          "Housing",
          "Industry: type 11",
          "Military",
          "Bank",
          "Agriculture",
          "Police",
          "Transport: type 2",
          "Postal",
          "Security Ministries",
          "Trade: type 2",
          "Restaurant",
          "Services",
          "University",
          "Industry: type 7",
          "Transport: type 3",
          "Industry: type 1",
          "Hotel",
          "Electricity",
          "Industry: type 4",
          "Trade: type 6",
          "Industry: type 5",
          "Insurance",
          "Telecom",
          "Emergency",
          "Industry: type 2",
          "Advertising",
          "Realtor",
          "Culture",
          "Industry: type 12",
          "Trade: type 1",
          "Mobile",
          "Legal Services",
          "Cleaning",
          "Transport: type 1",
          "Industry: type 6",
          "Industry: type 10",
          "Religion",
          "Industry: type 13",
          "Trade: type 4",
          "Trade: type 5",
          "Industry: type 8"
         ],
         "y": [
          67992,
          55374,
          38412,
          16683,
          11193,
          10553,
          10404,
          8893,
          7831,
          6880,
          6721,
          5984,
          5398,
          3492,
          3368,
          3278,
          3247,
          2958,
          2704,
          2634,
          2507,
          2454,
          2341,
          2204,
          2157,
          1974,
          1900,
          1811,
          1575,
          1327,
          1307,
          1187,
          1039,
          966,
          950,
          877,
          631,
          599,
          597,
          577,
          560,
          458,
          429,
          396,
          379,
          369,
          348,
          317,
          305,
          260,
          201,
          112,
          109,
          85,
          67,
          64,
          49,
          24
         ]
        }
       ],
       "layout": {
        "title": "Types of Organizations who applied for loan",
        "xaxis": {
         "tickangle": 45
        }
       }
      },
      "text/html": [
       "<div id=\"4500915e-fdb0-432a-b2c8-0df7afabea5a\" style=\"height: 525px; width: 100%;\" class=\"plotly-graph-div\"></div><script type=\"text/javascript\">require([\"plotly\"], function(Plotly) { window.PLOTLYENV=window.PLOTLYENV || {};window.PLOTLYENV.BASE_URL=\"https://plot.ly\";Plotly.newPlot(\"4500915e-fdb0-432a-b2c8-0df7afabea5a\", [{\"type\": \"bar\", \"x\": [\"Business Entity Type 3\", \"XNA\", \"Self-employed\", \"Other\", \"Medicine\", \"Business Entity Type 2\", \"Government\", \"School\", \"Trade: type 7\", \"Kindergarten\", \"Construction\", \"Business Entity Type 1\", \"Transport: type 4\", \"Trade: type 3\", \"Industry: type 9\", \"Industry: type 3\", \"Security\", \"Housing\", \"Industry: type 11\", \"Military\", \"Bank\", \"Agriculture\", \"Police\", \"Transport: type 2\", \"Postal\", \"Security Ministries\", \"Trade: type 2\", \"Restaurant\", \"Services\", \"University\", \"Industry: type 7\", \"Transport: type 3\", \"Industry: type 1\", \"Hotel\", \"Electricity\", \"Industry: type 4\", \"Trade: type 6\", \"Industry: type 5\", \"Insurance\", \"Telecom\", \"Emergency\", \"Industry: type 2\", \"Advertising\", \"Realtor\", \"Culture\", \"Industry: type 12\", \"Trade: type 1\", \"Mobile\", \"Legal Services\", \"Cleaning\", \"Transport: type 1\", \"Industry: type 6\", \"Industry: type 10\", \"Religion\", \"Industry: type 13\", \"Trade: type 4\", \"Trade: type 5\", \"Industry: type 8\"], \"y\": [67992, 55374, 38412, 16683, 11193, 10553, 10404, 8893, 7831, 6880, 6721, 5984, 5398, 3492, 3368, 3278, 3247, 2958, 2704, 2634, 2507, 2454, 2341, 2204, 2157, 1974, 1900, 1811, 1575, 1327, 1307, 1187, 1039, 966, 950, 877, 631, 599, 597, 577, 560, 458, 429, 396, 379, 369, 348, 317, 305, 260, 201, 112, 109, 85, 67, 64, 49, 24], \"marker\": {\"color\": \"rgb(158,202,225)\", \"line\": {\"color\": \"rgb(8,48,107)\", \"width\": 1.5}}, \"opacity\": 0.6}], {\"xaxis\": {\"tickangle\": 45}, \"title\": \"Types of Organizations who applied for loan\"}, {\"showLink\": true, \"linkText\": \"Export to plot.ly\"})});</script>"
      ],
      "text/vnd.plotly.v1+html": [
       "<div id=\"4500915e-fdb0-432a-b2c8-0df7afabea5a\" style=\"height: 525px; width: 100%;\" class=\"plotly-graph-div\"></div><script type=\"text/javascript\">require([\"plotly\"], function(Plotly) { window.PLOTLYENV=window.PLOTLYENV || {};window.PLOTLYENV.BASE_URL=\"https://plot.ly\";Plotly.newPlot(\"4500915e-fdb0-432a-b2c8-0df7afabea5a\", [{\"type\": \"bar\", \"x\": [\"Business Entity Type 3\", \"XNA\", \"Self-employed\", \"Other\", \"Medicine\", \"Business Entity Type 2\", \"Government\", \"School\", \"Trade: type 7\", \"Kindergarten\", \"Construction\", \"Business Entity Type 1\", \"Transport: type 4\", \"Trade: type 3\", \"Industry: type 9\", \"Industry: type 3\", \"Security\", \"Housing\", \"Industry: type 11\", \"Military\", \"Bank\", \"Agriculture\", \"Police\", \"Transport: type 2\", \"Postal\", \"Security Ministries\", \"Trade: type 2\", \"Restaurant\", \"Services\", \"University\", \"Industry: type 7\", \"Transport: type 3\", \"Industry: type 1\", \"Hotel\", \"Electricity\", \"Industry: type 4\", \"Trade: type 6\", \"Industry: type 5\", \"Insurance\", \"Telecom\", \"Emergency\", \"Industry: type 2\", \"Advertising\", \"Realtor\", \"Culture\", \"Industry: type 12\", \"Trade: type 1\", \"Mobile\", \"Legal Services\", \"Cleaning\", \"Transport: type 1\", \"Industry: type 6\", \"Industry: type 10\", \"Religion\", \"Industry: type 13\", \"Trade: type 4\", \"Trade: type 5\", \"Industry: type 8\"], \"y\": [67992, 55374, 38412, 16683, 11193, 10553, 10404, 8893, 7831, 6880, 6721, 5984, 5398, 3492, 3368, 3278, 3247, 2958, 2704, 2634, 2507, 2454, 2341, 2204, 2157, 1974, 1900, 1811, 1575, 1327, 1307, 1187, 1039, 966, 950, 877, 631, 599, 597, 577, 560, 458, 429, 396, 379, 369, 348, 317, 305, 260, 201, 112, 109, 85, 67, 64, 49, 24], \"marker\": {\"color\": \"rgb(158,202,225)\", \"line\": {\"color\": \"rgb(8,48,107)\", \"width\": 1.5}}, \"opacity\": 0.6}], {\"xaxis\": {\"tickangle\": 45}, \"title\": \"Types of Organizations who applied for loan\"}, {\"showLink\": true, \"linkText\": \"Export to plot.ly\"})});</script>"
      ]
     },
     "metadata": {},
     "output_type": "display_data"
    }
   ],
   "source": [
    "import plotly.plotly as py\n",
    "    import plotly.graph_objs as go\n",
    "\n",
    "temp = application_train[\"ORGANIZATION_TYPE\"].value_counts()\n",
    "trace0 = go.Bar(\n",
    "    x=temp.index,\n",
    "    y=temp.values,\n",
    "    marker=dict(\n",
    "        color='rgb(158,202,225)',\n",
    "        line=dict(\n",
    "            color='rgb(8,48,107)',\n",
    "            width=1.5,\n",
    "        )\n",
    "    ),\n",
    "    opacity=0.6\n",
    ")\n",
    "\n",
    "data = [trace0]\n",
    "layout = go.Layout(\n",
    "    xaxis=dict(tickangle=45),\n",
    "    title='Types of Organizations who applied for loan',\n",
    ")\n",
    "\n",
    "fig = go.Figure(data=data, layout=layout)\n",
    "iplot(fig, filename='text-hover-bar')"
   ]
  },
  {
   "cell_type": "code",
   "execution_count": null,
   "metadata": {
    "collapsed": true
   },
   "outputs": [],
   "source": [
    "############## Exploration in terms of loan is repayed or not ##############"
   ]
  },
  {
   "cell_type": "code",
   "execution_count": 82,
   "metadata": {},
   "outputs": [
    {
     "data": {
      "application/vnd.plotly.v1+json": {
       "data": [
        {
         "marker": {
          "color": "rgb(158,0,225)",
          "line": {
           "color": "rgb(8,48,107)",
           "width": 1.5
          }
         },
         "name": "YES",
         "opacity": 0.6,
         "type": "bar",
         "x": [
          "Working",
          "Commercial associate",
          "Pensioner",
          "State servant",
          "Unemployed",
          "Student",
          "Businessman",
          "Maternity leave"
         ],
         "y": [
          4.9507172101160615,
          1.7430270787061277,
          0.9697214083398643,
          0.4061643323328271,
          0.002601532953292728,
          0,
          0,
          0.000650383238323182
         ]
        },
        {
         "marker": {
          "color": "rgb(0,100,225)",
          "line": {
           "color": "rgb(100,100,225)",
           "width": 1.5
          }
         },
         "name": "NO",
         "opacity": 0.6,
         "type": "bar",
         "x": [
          "Working",
          "Commercial associate",
          "Pensioner",
          "State servant",
          "Unemployed",
          "Student",
          "Businessman",
          "Maternity leave"
         ],
         "y": [
          46.681256930646384,
          21.546221110789535,
          17.033537011684135,
          6.651469378331182,
          0.004552682668262274,
          0.005853449144908637,
          0.00325191619161591,
          0.000975574857484773
         ]
        }
       ],
       "layout": {
        "title": "Types of Organizations who applied for loan",
        "xaxis": {
         "tickangle": 45
        }
       }
      },
      "text/html": [
       "<div id=\"5a39d107-c854-42b7-8e16-0bfcea9ed0ee\" style=\"height: 525px; width: 100%;\" class=\"plotly-graph-div\"></div><script type=\"text/javascript\">require([\"plotly\"], function(Plotly) { window.PLOTLYENV=window.PLOTLYENV || {};window.PLOTLYENV.BASE_URL=\"https://plot.ly\";Plotly.newPlot(\"5a39d107-c854-42b7-8e16-0bfcea9ed0ee\", [{\"type\": \"bar\", \"x\": [\"Working\", \"Commercial associate\", \"Pensioner\", \"State servant\", \"Unemployed\", \"Student\", \"Businessman\", \"Maternity leave\"], \"y\": [4.9507172101160615, 1.7430270787061277, 0.9697214083398643, 0.4061643323328271, 0.002601532953292728, 0.0, 0.0, 0.000650383238323182], \"name\": \"YES\", \"marker\": {\"color\": \"rgb(158,0,225)\", \"line\": {\"color\": \"rgb(8,48,107)\", \"width\": 1.5}}, \"opacity\": 0.6}, {\"type\": \"bar\", \"x\": [\"Working\", \"Commercial associate\", \"Pensioner\", \"State servant\", \"Unemployed\", \"Student\", \"Businessman\", \"Maternity leave\"], \"y\": [46.681256930646384, 21.546221110789535, 17.033537011684135, 6.651469378331182, 0.004552682668262274, 0.005853449144908637, 0.00325191619161591, 0.000975574857484773], \"name\": \"NO\", \"marker\": {\"color\": \"rgb(0,100,225)\", \"line\": {\"color\": \"rgb(100,100,225)\", \"width\": 1.5}}, \"opacity\": 0.6}], {\"xaxis\": {\"tickangle\": 45}, \"title\": \"Types of Organizations who applied for loan\"}, {\"showLink\": true, \"linkText\": \"Export to plot.ly\"})});</script>"
      ],
      "text/vnd.plotly.v1+html": [
       "<div id=\"5a39d107-c854-42b7-8e16-0bfcea9ed0ee\" style=\"height: 525px; width: 100%;\" class=\"plotly-graph-div\"></div><script type=\"text/javascript\">require([\"plotly\"], function(Plotly) { window.PLOTLYENV=window.PLOTLYENV || {};window.PLOTLYENV.BASE_URL=\"https://plot.ly\";Plotly.newPlot(\"5a39d107-c854-42b7-8e16-0bfcea9ed0ee\", [{\"type\": \"bar\", \"x\": [\"Working\", \"Commercial associate\", \"Pensioner\", \"State servant\", \"Unemployed\", \"Student\", \"Businessman\", \"Maternity leave\"], \"y\": [4.9507172101160615, 1.7430270787061277, 0.9697214083398643, 0.4061643323328271, 0.002601532953292728, 0.0, 0.0, 0.000650383238323182], \"name\": \"YES\", \"marker\": {\"color\": \"rgb(158,0,225)\", \"line\": {\"color\": \"rgb(8,48,107)\", \"width\": 1.5}}, \"opacity\": 0.6}, {\"type\": \"bar\", \"x\": [\"Working\", \"Commercial associate\", \"Pensioner\", \"State servant\", \"Unemployed\", \"Student\", \"Businessman\", \"Maternity leave\"], \"y\": [46.681256930646384, 21.546221110789535, 17.033537011684135, 6.651469378331182, 0.004552682668262274, 0.005853449144908637, 0.00325191619161591, 0.000975574857484773], \"name\": \"NO\", \"marker\": {\"color\": \"rgb(0,100,225)\", \"line\": {\"color\": \"rgb(100,100,225)\", \"width\": 1.5}}, \"opacity\": 0.6}], {\"xaxis\": {\"tickangle\": 45}, \"title\": \"Types of Organizations who applied for loan\"}, {\"showLink\": true, \"linkText\": \"Export to plot.ly\"})});</script>"
      ]
     },
     "metadata": {},
     "output_type": "display_data"
    }
   ],
   "source": [
    "temp = application_train[\"NAME_INCOME_TYPE\"].value_counts()\n",
    "#print(temp.values)\n",
    "temp_y0 = []\n",
    "temp_y1 = []\n",
    "for val in temp.index:\n",
    "    temp_y1.append(np.sum(application_train[\"TARGET\"][application_train[\"NAME_INCOME_TYPE\"]==val] == 1))\n",
    "    temp_y0.append(np.sum(application_train[\"TARGET\"][application_train[\"NAME_INCOME_TYPE\"]==val] == 0))    \n",
    "trace1 = go.Bar(\n",
    "    x = temp.index,\n",
    "    y = np.asarray(temp_y1) * (100/ temp.sum()),\n",
    "    name='YES',\n",
    "    marker=dict(\n",
    "        color='rgb(158,0,225)',\n",
    "        line=dict(\n",
    "            color='rgb(8,48,107)',\n",
    "            width=1.5,\n",
    "        )\n",
    "    ),\n",
    "    opacity=0.6\n",
    ")\n",
    "trace2 = go.Bar(\n",
    "    x = temp.index,\n",
    "    y = np.asarray(temp_y0) * (100/ temp.sum()), \n",
    "    name='NO',\n",
    "    marker=dict(\n",
    "        color='rgb(0,100,225)',\n",
    "        line=dict(\n",
    "            color='rgb(100,100,225)',\n",
    "            width=1.5,\n",
    "        )\n",
    "    ),\n",
    "    opacity=0.6\n",
    ")\n",
    "\n",
    "data = [trace1, trace2]\n",
    "layout = go.Layout(\n",
    "    xaxis=dict(tickangle=45),\n",
    "    title='Types of Organizations who applied for loan',\n",
    ")\n",
    "\n",
    "fig = go.Figure(data=data, layout=layout)\n",
    "iplot(fig, filename='text-hover-bar')"
   ]
  },
  {
   "cell_type": "code",
   "execution_count": 88,
   "metadata": {},
   "outputs": [
    {
     "data": {
      "application/vnd.plotly.v1+json": {
       "data": [
        {
         "marker": {
          "color": "rgb(158,0,225)",
          "line": {
           "color": "rgb(8,48,107)",
           "width": 1.5
          }
         },
         "name": "YES",
         "opacity": 0.6,
         "type": "bar",
         "x": [
          "Married",
          "Single / not married",
          "Civil marriage",
          "Separated",
          "Widow",
          "Unknown"
         ],
         "y": [
          4.829095544549626,
          1.449379046603211,
          0.9628923843374709,
          0.5268104230417774,
          0.30470454715441075,
          0
         ]
        },
        {
         "marker": {
          "color": "rgb(0,100,225)",
          "line": {
           "color": "rgb(100,100,225)",
           "width": 1.5
          }
         },
         "name": "NO",
         "opacity": 0.6,
         "type": "bar",
         "x": [
          "Married",
          "Single / not married",
          "Civil marriage",
          "Separated",
          "Widow",
          "Unknown"
         ],
         "y": [
          59.048944590600016,
          13.32862889457613,
          8.719688076198901,
          5.902227887782876,
          4.926978221917265,
          0.000650383238323182
         ]
        }
       ],
       "layout": {
        "title": "Percentage of Applicant Civil Status with respect to loan repayment",
        "xaxis": {
         "tickangle": 0
        }
       }
      },
      "text/html": [
       "<div id=\"ca4ad70e-c532-49e4-ab4b-df8894d7353e\" style=\"height: 525px; width: 100%;\" class=\"plotly-graph-div\"></div><script type=\"text/javascript\">require([\"plotly\"], function(Plotly) { window.PLOTLYENV=window.PLOTLYENV || {};window.PLOTLYENV.BASE_URL=\"https://plot.ly\";Plotly.newPlot(\"ca4ad70e-c532-49e4-ab4b-df8894d7353e\", [{\"type\": \"bar\", \"x\": [\"Married\", \"Single / not married\", \"Civil marriage\", \"Separated\", \"Widow\", \"Unknown\"], \"y\": [4.829095544549626, 1.449379046603211, 0.9628923843374709, 0.5268104230417774, 0.30470454715441075, 0.0], \"name\": \"YES\", \"marker\": {\"color\": \"rgb(158,0,225)\", \"line\": {\"color\": \"rgb(8,48,107)\", \"width\": 1.5}}, \"opacity\": 0.6}, {\"type\": \"bar\", \"x\": [\"Married\", \"Single / not married\", \"Civil marriage\", \"Separated\", \"Widow\", \"Unknown\"], \"y\": [59.048944590600016, 13.32862889457613, 8.719688076198901, 5.902227887782876, 4.926978221917265, 0.000650383238323182], \"name\": \"NO\", \"marker\": {\"color\": \"rgb(0,100,225)\", \"line\": {\"color\": \"rgb(100,100,225)\", \"width\": 1.5}}, \"opacity\": 0.6}], {\"xaxis\": {\"tickangle\": 0}, \"title\": \"Percentage of Applicant Civil Status with respect to loan repayment\"}, {\"showLink\": true, \"linkText\": \"Export to plot.ly\"})});</script>"
      ],
      "text/vnd.plotly.v1+html": [
       "<div id=\"ca4ad70e-c532-49e4-ab4b-df8894d7353e\" style=\"height: 525px; width: 100%;\" class=\"plotly-graph-div\"></div><script type=\"text/javascript\">require([\"plotly\"], function(Plotly) { window.PLOTLYENV=window.PLOTLYENV || {};window.PLOTLYENV.BASE_URL=\"https://plot.ly\";Plotly.newPlot(\"ca4ad70e-c532-49e4-ab4b-df8894d7353e\", [{\"type\": \"bar\", \"x\": [\"Married\", \"Single / not married\", \"Civil marriage\", \"Separated\", \"Widow\", \"Unknown\"], \"y\": [4.829095544549626, 1.449379046603211, 0.9628923843374709, 0.5268104230417774, 0.30470454715441075, 0.0], \"name\": \"YES\", \"marker\": {\"color\": \"rgb(158,0,225)\", \"line\": {\"color\": \"rgb(8,48,107)\", \"width\": 1.5}}, \"opacity\": 0.6}, {\"type\": \"bar\", \"x\": [\"Married\", \"Single / not married\", \"Civil marriage\", \"Separated\", \"Widow\", \"Unknown\"], \"y\": [59.048944590600016, 13.32862889457613, 8.719688076198901, 5.902227887782876, 4.926978221917265, 0.000650383238323182], \"name\": \"NO\", \"marker\": {\"color\": \"rgb(0,100,225)\", \"line\": {\"color\": \"rgb(100,100,225)\", \"width\": 1.5}}, \"opacity\": 0.6}], {\"xaxis\": {\"tickangle\": 0}, \"title\": \"Percentage of Applicant Civil Status with respect to loan repayment\"}, {\"showLink\": true, \"linkText\": \"Export to plot.ly\"})});</script>"
      ]
     },
     "metadata": {},
     "output_type": "display_data"
    }
   ],
   "source": [
    "temp = application_train[\"NAME_FAMILY_STATUS\"].value_counts()\n",
    "#print(temp.values)\n",
    "temp_y0 = []\n",
    "temp_y1 = []\n",
    "for val in temp.index:\n",
    "    temp_y1.append(np.sum(application_train[\"TARGET\"][application_train[\"NAME_FAMILY_STATUS\"]==val] == 1))\n",
    "    temp_y0.append(np.sum(application_train[\"TARGET\"][application_train[\"NAME_FAMILY_STATUS\"]==val] == 0))    \n",
    "trace1 = go.Bar(\n",
    "    x = temp.index,\n",
    "    y = np.asarray(temp_y1) * (100/ temp.sum()),\n",
    "    name='YES',\n",
    "    marker=dict(\n",
    "        color='rgb(158,0,225)',\n",
    "        line=dict(\n",
    "            color='rgb(8,48,107)',\n",
    "            width=1.5,\n",
    "        )\n",
    "    ),\n",
    "    opacity=0.6\n",
    ")\n",
    "trace2 = go.Bar(\n",
    "    x = temp.index,\n",
    "    y = np.asarray(temp_y0) * (100/ temp.sum()), \n",
    "    name='NO',\n",
    "    marker=dict(\n",
    "        color='rgb(0,100,225)',\n",
    "        line=dict(\n",
    "            color='rgb(100,100,225)',\n",
    "            width=1.5,\n",
    "        )\n",
    "    ),\n",
    "    opacity=0.6\n",
    ")\n",
    "\n",
    "data = [trace1, trace2]\n",
    "layout = go.Layout(\n",
    "    xaxis=dict(tickangle=0),\n",
    "    title=\"Percentage of Applicant Civil Status with respect to loan repayment\",\n",
    ")\n",
    "\n",
    "fig = go.Figure(data=data, layout=layout)\n",
    "iplot(fig, filename='text-hover-bar')"
   ]
  },
  {
   "cell_type": "code",
   "execution_count": 85,
   "metadata": {},
   "outputs": [
    {
     "data": {
      "application/vnd.plotly.v1+json": {
       "data": [
        {
         "marker": {
          "color": "rgb(158,0,225)",
          "line": {
           "color": "rgb(8,48,107)",
           "width": 1.5
          }
         },
         "name": "YES",
         "opacity": 0.6,
         "type": "bar",
         "x": [
          "Laborers",
          "Sales staff",
          "Core staff",
          "Managers",
          "Drivers",
          "High skill tech staff",
          "Accountants",
          "Medicine staff",
          "Security staff",
          "Cooking staff",
          "Cleaning staff",
          "Private service staff",
          "Low-skill Laborers",
          "Waiters/barmen staff",
          "Secretaries",
          "Realty agents",
          "HR staff",
          "IT staff"
         ],
         "y": [
          2.7652519893899203,
          1.464569912845775,
          0.8232284956422888,
          0.6290261462675256,
          0.9980106100795756,
          0.33203865100416824,
          0.22451686244789695,
          0.270935960591133,
          0.3419856006062903,
          0.29414550966275105,
          0.21172792724516865,
          0.08289124668435013,
          0.1700454717696097,
          0.0719969685486927,
          0.04357711254262979,
          0.02794619173929519,
          0.017051913603637742,
          0.01610458507010231
         ]
        },
        {
         "marker": {
          "color": "rgb(0,100,225)",
          "line": {
           "color": "rgb(100,100,225)",
           "width": 1.5
          }
         },
         "name": "NO",
         "opacity": 0.6,
         "type": "bar",
         "x": [
          "Laborers",
          "Sales staff",
          "Core staff",
          "Managers",
          "Drivers",
          "High skill tech staff",
          "Accountants",
          "Medicine staff",
          "Security staff",
          "Cooking staff",
          "Cleaning staff",
          "Private service staff",
          "Low-skill Laborers",
          "Waiters/barmen staff",
          "Secretaries",
          "Realty agents",
          "HR staff",
          "IT staff"
         ],
         "y": [
          23.374384236453203,
          13.741000378931414,
          12.235695339143616,
          9.493652898825314,
          7.813565744600227,
          5.0582607048124295,
          4.423550587343691,
          3.7727358848048507,
          2.8415119363395225,
          2.522262220538083,
          1.9922319060250095,
          1.1732663887836303,
          0.8213338385752179,
          0.5665024630541872,
          0.5745547555892384,
          0.32777567260325885,
          0.24962106858658584,
          0.23304281924971582
         ]
        }
       ],
       "layout": {
        "title": "Percentage of Applicant OCCUPATION type with respect to loan repayment",
        "xaxis": {
         "tickangle": 45
        }
       }
      },
      "text/html": [
       "<div id=\"d73d0370-176a-40bf-a6be-3513a4d44fb2\" style=\"height: 525px; width: 100%;\" class=\"plotly-graph-div\"></div><script type=\"text/javascript\">require([\"plotly\"], function(Plotly) { window.PLOTLYENV=window.PLOTLYENV || {};window.PLOTLYENV.BASE_URL=\"https://plot.ly\";Plotly.newPlot(\"d73d0370-176a-40bf-a6be-3513a4d44fb2\", [{\"type\": \"bar\", \"x\": [\"Laborers\", \"Sales staff\", \"Core staff\", \"Managers\", \"Drivers\", \"High skill tech staff\", \"Accountants\", \"Medicine staff\", \"Security staff\", \"Cooking staff\", \"Cleaning staff\", \"Private service staff\", \"Low-skill Laborers\", \"Waiters/barmen staff\", \"Secretaries\", \"Realty agents\", \"HR staff\", \"IT staff\"], \"y\": [2.7652519893899203, 1.464569912845775, 0.8232284956422888, 0.6290261462675256, 0.9980106100795756, 0.33203865100416824, 0.22451686244789695, 0.270935960591133, 0.3419856006062903, 0.29414550966275105, 0.21172792724516865, 0.08289124668435013, 0.1700454717696097, 0.0719969685486927, 0.04357711254262979, 0.02794619173929519, 0.017051913603637742, 0.01610458507010231], \"name\": \"YES\", \"marker\": {\"color\": \"rgb(158,0,225)\", \"line\": {\"color\": \"rgb(8,48,107)\", \"width\": 1.5}}, \"opacity\": 0.6}, {\"type\": \"bar\", \"x\": [\"Laborers\", \"Sales staff\", \"Core staff\", \"Managers\", \"Drivers\", \"High skill tech staff\", \"Accountants\", \"Medicine staff\", \"Security staff\", \"Cooking staff\", \"Cleaning staff\", \"Private service staff\", \"Low-skill Laborers\", \"Waiters/barmen staff\", \"Secretaries\", \"Realty agents\", \"HR staff\", \"IT staff\"], \"y\": [23.374384236453203, 13.741000378931414, 12.235695339143616, 9.493652898825314, 7.813565744600227, 5.0582607048124295, 4.423550587343691, 3.7727358848048507, 2.8415119363395225, 2.522262220538083, 1.9922319060250095, 1.1732663887836303, 0.8213338385752179, 0.5665024630541872, 0.5745547555892384, 0.32777567260325885, 0.24962106858658584, 0.23304281924971582], \"name\": \"NO\", \"marker\": {\"color\": \"rgb(0,100,225)\", \"line\": {\"color\": \"rgb(100,100,225)\", \"width\": 1.5}}, \"opacity\": 0.6}], {\"xaxis\": {\"tickangle\": 45}, \"title\": \"Percentage of Applicant OCCUPATION type with respect to loan repayment\"}, {\"showLink\": true, \"linkText\": \"Export to plot.ly\"})});</script>"
      ],
      "text/vnd.plotly.v1+html": [
       "<div id=\"d73d0370-176a-40bf-a6be-3513a4d44fb2\" style=\"height: 525px; width: 100%;\" class=\"plotly-graph-div\"></div><script type=\"text/javascript\">require([\"plotly\"], function(Plotly) { window.PLOTLYENV=window.PLOTLYENV || {};window.PLOTLYENV.BASE_URL=\"https://plot.ly\";Plotly.newPlot(\"d73d0370-176a-40bf-a6be-3513a4d44fb2\", [{\"type\": \"bar\", \"x\": [\"Laborers\", \"Sales staff\", \"Core staff\", \"Managers\", \"Drivers\", \"High skill tech staff\", \"Accountants\", \"Medicine staff\", \"Security staff\", \"Cooking staff\", \"Cleaning staff\", \"Private service staff\", \"Low-skill Laborers\", \"Waiters/barmen staff\", \"Secretaries\", \"Realty agents\", \"HR staff\", \"IT staff\"], \"y\": [2.7652519893899203, 1.464569912845775, 0.8232284956422888, 0.6290261462675256, 0.9980106100795756, 0.33203865100416824, 0.22451686244789695, 0.270935960591133, 0.3419856006062903, 0.29414550966275105, 0.21172792724516865, 0.08289124668435013, 0.1700454717696097, 0.0719969685486927, 0.04357711254262979, 0.02794619173929519, 0.017051913603637742, 0.01610458507010231], \"name\": \"YES\", \"marker\": {\"color\": \"rgb(158,0,225)\", \"line\": {\"color\": \"rgb(8,48,107)\", \"width\": 1.5}}, \"opacity\": 0.6}, {\"type\": \"bar\", \"x\": [\"Laborers\", \"Sales staff\", \"Core staff\", \"Managers\", \"Drivers\", \"High skill tech staff\", \"Accountants\", \"Medicine staff\", \"Security staff\", \"Cooking staff\", \"Cleaning staff\", \"Private service staff\", \"Low-skill Laborers\", \"Waiters/barmen staff\", \"Secretaries\", \"Realty agents\", \"HR staff\", \"IT staff\"], \"y\": [23.374384236453203, 13.741000378931414, 12.235695339143616, 9.493652898825314, 7.813565744600227, 5.0582607048124295, 4.423550587343691, 3.7727358848048507, 2.8415119363395225, 2.522262220538083, 1.9922319060250095, 1.1732663887836303, 0.8213338385752179, 0.5665024630541872, 0.5745547555892384, 0.32777567260325885, 0.24962106858658584, 0.23304281924971582], \"name\": \"NO\", \"marker\": {\"color\": \"rgb(0,100,225)\", \"line\": {\"color\": \"rgb(100,100,225)\", \"width\": 1.5}}, \"opacity\": 0.6}], {\"xaxis\": {\"tickangle\": 45}, \"title\": \"Percentage of Applicant OCCUPATION type with respect to loan repayment\"}, {\"showLink\": true, \"linkText\": \"Export to plot.ly\"})});</script>"
      ]
     },
     "metadata": {},
     "output_type": "display_data"
    }
   ],
   "source": [
    "temp = application_train[\"OCCUPATION_TYPE\"].value_counts()\n",
    "\n",
    "temp_y0 = []\n",
    "temp_y1 = []\n",
    "for val in temp.index:\n",
    "    temp_y1.append(np.sum(application_train[\"TARGET\"][application_train[\"OCCUPATION_TYPE\"]==val] == 1))\n",
    "    temp_y0.append(np.sum(application_train[\"TARGET\"][application_train[\"OCCUPATION_TYPE\"]==val] == 0))    \n",
    "trace1 = go.Bar(\n",
    "    x = temp.index,\n",
    "    y = np.asarray(temp_y1) * (100/ temp.sum()),\n",
    "    name='YES',\n",
    "    marker=dict(\n",
    "        color='rgb(158,0,225)',\n",
    "        line=dict(\n",
    "            color='rgb(8,48,107)',\n",
    "            width=1.5,\n",
    "        )\n",
    "    ),\n",
    "    opacity=0.6\n",
    ")\n",
    "trace2 = go.Bar(\n",
    "    x = temp.index,\n",
    "    y = np.asarray(temp_y0) * (100/ temp.sum()), \n",
    "    name='NO',\n",
    "    marker=dict(\n",
    "        color='rgb(0,100,225)',\n",
    "        line=dict(\n",
    "            color='rgb(100,100,225)',\n",
    "            width=1.5,\n",
    "        )\n",
    "    ),\n",
    "    opacity=0.6\n",
    ")\n",
    "\n",
    "data = [trace1, trace2]\n",
    "layout = go.Layout(\n",
    "    xaxis=dict(tickangle=45),\n",
    "    title=\"Percentage of Applicant OCCUPATION type with respect to loan repayment\",\n",
    ")\n",
    "\n",
    "fig = go.Figure(data=data, layout=layout)\n",
    "iplot(fig, filename='text-hover-bar')"
   ]
  },
  {
   "cell_type": "code",
   "execution_count": 87,
   "metadata": {},
   "outputs": [
    {
     "data": {
      "application/vnd.plotly.v1+json": {
       "data": [
        {
         "marker": {
          "color": "rgb(158,0,225)",
          "line": {
           "color": "rgb(8,48,107)",
           "width": 1.5
          }
         },
         "name": "YES",
         "opacity": 0.6,
         "type": "bar",
         "x": [
          "Secondary / secondary special",
          "Higher education",
          "Incomplete higher",
          "Lower secondary",
          "Academic degree"
         ],
         "y": [
          6.349041172510902,
          1.3036932012188183,
          0.28356709190890733,
          0.13560490519038343,
          0.000975574857484773
         ]
        },
        {
         "marker": {
          "color": "rgb(0,100,225)",
          "line": {
           "color": "rgb(100,100,225)",
           "width": 1.5
          }
         },
         "name": "NO",
         "opacity": 0.6,
         "type": "bar",
         "x": [
          "Secondary / secondary special",
          "Higher education",
          "Incomplete higher",
          "Lower secondary",
          "Academic degree"
         ],
         "y": [
          64.66988172780812,
          23.04112698407537,
          3.0584271782147634,
          1.1053263135302478,
          0.05235585068501615
         ]
        }
       ],
       "layout": {
        "title": "Percentage of Applicant Education level with respect to loan repayment",
        "xaxis": {
         "tickangle": 0
        }
       }
      },
      "text/html": [
       "<div id=\"46a23641-45dd-4a1d-b633-e066d97e40ad\" style=\"height: 525px; width: 100%;\" class=\"plotly-graph-div\"></div><script type=\"text/javascript\">require([\"plotly\"], function(Plotly) { window.PLOTLYENV=window.PLOTLYENV || {};window.PLOTLYENV.BASE_URL=\"https://plot.ly\";Plotly.newPlot(\"46a23641-45dd-4a1d-b633-e066d97e40ad\", [{\"type\": \"bar\", \"x\": [\"Secondary / secondary special\", \"Higher education\", \"Incomplete higher\", \"Lower secondary\", \"Academic degree\"], \"y\": [6.349041172510902, 1.3036932012188183, 0.28356709190890733, 0.13560490519038343, 0.000975574857484773], \"name\": \"YES\", \"marker\": {\"color\": \"rgb(158,0,225)\", \"line\": {\"color\": \"rgb(8,48,107)\", \"width\": 1.5}}, \"opacity\": 0.6}, {\"type\": \"bar\", \"x\": [\"Secondary / secondary special\", \"Higher education\", \"Incomplete higher\", \"Lower secondary\", \"Academic degree\"], \"y\": [64.66988172780812, 23.04112698407537, 3.0584271782147634, 1.1053263135302478, 0.05235585068501615], \"name\": \"NO\", \"marker\": {\"color\": \"rgb(0,100,225)\", \"line\": {\"color\": \"rgb(100,100,225)\", \"width\": 1.5}}, \"opacity\": 0.6}], {\"xaxis\": {\"tickangle\": 0}, \"title\": \"Percentage of Applicant Education level with respect to loan repayment\"}, {\"showLink\": true, \"linkText\": \"Export to plot.ly\"})});</script>"
      ],
      "text/vnd.plotly.v1+html": [
       "<div id=\"46a23641-45dd-4a1d-b633-e066d97e40ad\" style=\"height: 525px; width: 100%;\" class=\"plotly-graph-div\"></div><script type=\"text/javascript\">require([\"plotly\"], function(Plotly) { window.PLOTLYENV=window.PLOTLYENV || {};window.PLOTLYENV.BASE_URL=\"https://plot.ly\";Plotly.newPlot(\"46a23641-45dd-4a1d-b633-e066d97e40ad\", [{\"type\": \"bar\", \"x\": [\"Secondary / secondary special\", \"Higher education\", \"Incomplete higher\", \"Lower secondary\", \"Academic degree\"], \"y\": [6.349041172510902, 1.3036932012188183, 0.28356709190890733, 0.13560490519038343, 0.000975574857484773], \"name\": \"YES\", \"marker\": {\"color\": \"rgb(158,0,225)\", \"line\": {\"color\": \"rgb(8,48,107)\", \"width\": 1.5}}, \"opacity\": 0.6}, {\"type\": \"bar\", \"x\": [\"Secondary / secondary special\", \"Higher education\", \"Incomplete higher\", \"Lower secondary\", \"Academic degree\"], \"y\": [64.66988172780812, 23.04112698407537, 3.0584271782147634, 1.1053263135302478, 0.05235585068501615], \"name\": \"NO\", \"marker\": {\"color\": \"rgb(0,100,225)\", \"line\": {\"color\": \"rgb(100,100,225)\", \"width\": 1.5}}, \"opacity\": 0.6}], {\"xaxis\": {\"tickangle\": 0}, \"title\": \"Percentage of Applicant Education level with respect to loan repayment\"}, {\"showLink\": true, \"linkText\": \"Export to plot.ly\"})});</script>"
      ]
     },
     "metadata": {},
     "output_type": "display_data"
    }
   ],
   "source": [
    "temp = application_train[\"NAME_EDUCATION_TYPE\"].value_counts()\n",
    "\n",
    "temp_y0 = []\n",
    "temp_y1 = []\n",
    "for val in temp.index:\n",
    "    temp_y1.append(np.sum(application_train[\"TARGET\"][application_train[\"NAME_EDUCATION_TYPE\"]==val] == 1))\n",
    "    temp_y0.append(np.sum(application_train[\"TARGET\"][application_train[\"NAME_EDUCATION_TYPE\"]==val] == 0))    \n",
    "trace1 = go.Bar(\n",
    "    x = temp.index,\n",
    "    y = np.asarray(temp_y1) * (100/ temp.sum()),\n",
    "    name='YES',\n",
    "    marker=dict(\n",
    "        color='rgb(158,0,225)',\n",
    "        line=dict(\n",
    "            color='rgb(8,48,107)',\n",
    "            width=1.5,\n",
    "        )\n",
    "    ),\n",
    "    opacity=0.6\n",
    ")\n",
    "trace2 = go.Bar(\n",
    "    x = temp.index,\n",
    "    y = np.asarray(temp_y0) * (100/ temp.sum()), \n",
    "    name='NO',\n",
    "    marker=dict(\n",
    "        color='rgb(0,100,225)',\n",
    "        line=dict(\n",
    "            color='rgb(100,100,225)',\n",
    "            width=1.5,\n",
    "        )\n",
    "    ),\n",
    "    opacity=0.6\n",
    ")\n",
    "\n",
    "data = [trace1, trace2]\n",
    "layout = go.Layout(\n",
    "    xaxis=dict(tickangle=0),\n",
    "    title=\"Percentage of Applicant Education level with respect to loan repayment\",\n",
    ")\n",
    "\n",
    "fig = go.Figure(data=data, layout=layout)\n",
    "iplot(fig, filename='text-hover-bar')"
   ]
  },
  {
   "cell_type": "code",
   "execution_count": 89,
   "metadata": {},
   "outputs": [
    {
     "data": {
      "application/vnd.plotly.v1+json": {
       "data": [
        {
         "marker": {
          "color": "rgb(158,0,225)",
          "line": {
           "color": "rgb(8,48,107)",
           "width": 1.5
          }
         },
         "name": "YES",
         "opacity": 0.6,
         "type": "bar",
         "x": [
          "House / apartment",
          "With parents",
          "Municipal apartment",
          "Rented apartment",
          "Office apartment",
          "Co-op apartment"
         ],
         "y": [
          6.917476122805364,
          0.564532650864522,
          0.3105579962993194,
          0.19544016311611617,
          0.05593295849579365,
          0.028942054105381598
         ]
        },
        {
         "marker": {
          "color": "rgb(0,100,225)",
          "line": {
           "color": "rgb(100,100,225)",
           "width": 1.5
          }
         },
         "name": "NO",
         "opacity": 0.6,
         "type": "bar",
         "x": [
          "House / apartment",
          "With parents",
          "Municipal apartment",
          "Rented apartment",
          "Office apartment",
          "Co-op apartment"
         ],
         "y": [
          81.81691061457964,
          4.261310977493488,
          3.3260598807847526,
          1.3918201300116093,
          0.79509350885009,
          0.33592294259392347
         ]
        }
       ],
       "layout": {
        "title": "Percentage of Applicant Housing type with respect to loan repayment",
        "xaxis": {
         "tickangle": 0
        }
       }
      },
      "text/html": [
       "<div id=\"4a11b210-5fb3-4ad6-bb05-0b3586478696\" style=\"height: 525px; width: 100%;\" class=\"plotly-graph-div\"></div><script type=\"text/javascript\">require([\"plotly\"], function(Plotly) { window.PLOTLYENV=window.PLOTLYENV || {};window.PLOTLYENV.BASE_URL=\"https://plot.ly\";Plotly.newPlot(\"4a11b210-5fb3-4ad6-bb05-0b3586478696\", [{\"type\": \"bar\", \"x\": [\"House / apartment\", \"With parents\", \"Municipal apartment\", \"Rented apartment\", \"Office apartment\", \"Co-op apartment\"], \"y\": [6.917476122805364, 0.564532650864522, 0.3105579962993194, 0.19544016311611617, 0.05593295849579365, 0.028942054105381598], \"name\": \"YES\", \"marker\": {\"color\": \"rgb(158,0,225)\", \"line\": {\"color\": \"rgb(8,48,107)\", \"width\": 1.5}}, \"opacity\": 0.6}, {\"type\": \"bar\", \"x\": [\"House / apartment\", \"With parents\", \"Municipal apartment\", \"Rented apartment\", \"Office apartment\", \"Co-op apartment\"], \"y\": [81.81691061457964, 4.261310977493488, 3.3260598807847526, 1.3918201300116093, 0.79509350885009, 0.33592294259392347], \"name\": \"NO\", \"marker\": {\"color\": \"rgb(0,100,225)\", \"line\": {\"color\": \"rgb(100,100,225)\", \"width\": 1.5}}, \"opacity\": 0.6}], {\"xaxis\": {\"tickangle\": 0}, \"title\": \"Percentage of Applicant Housing type with respect to loan repayment\"}, {\"showLink\": true, \"linkText\": \"Export to plot.ly\"})});</script>"
      ],
      "text/vnd.plotly.v1+html": [
       "<div id=\"4a11b210-5fb3-4ad6-bb05-0b3586478696\" style=\"height: 525px; width: 100%;\" class=\"plotly-graph-div\"></div><script type=\"text/javascript\">require([\"plotly\"], function(Plotly) { window.PLOTLYENV=window.PLOTLYENV || {};window.PLOTLYENV.BASE_URL=\"https://plot.ly\";Plotly.newPlot(\"4a11b210-5fb3-4ad6-bb05-0b3586478696\", [{\"type\": \"bar\", \"x\": [\"House / apartment\", \"With parents\", \"Municipal apartment\", \"Rented apartment\", \"Office apartment\", \"Co-op apartment\"], \"y\": [6.917476122805364, 0.564532650864522, 0.3105579962993194, 0.19544016311611617, 0.05593295849579365, 0.028942054105381598], \"name\": \"YES\", \"marker\": {\"color\": \"rgb(158,0,225)\", \"line\": {\"color\": \"rgb(8,48,107)\", \"width\": 1.5}}, \"opacity\": 0.6}, {\"type\": \"bar\", \"x\": [\"House / apartment\", \"With parents\", \"Municipal apartment\", \"Rented apartment\", \"Office apartment\", \"Co-op apartment\"], \"y\": [81.81691061457964, 4.261310977493488, 3.3260598807847526, 1.3918201300116093, 0.79509350885009, 0.33592294259392347], \"name\": \"NO\", \"marker\": {\"color\": \"rgb(0,100,225)\", \"line\": {\"color\": \"rgb(100,100,225)\", \"width\": 1.5}}, \"opacity\": 0.6}], {\"xaxis\": {\"tickangle\": 0}, \"title\": \"Percentage of Applicant Housing type with respect to loan repayment\"}, {\"showLink\": true, \"linkText\": \"Export to plot.ly\"})});</script>"
      ]
     },
     "metadata": {},
     "output_type": "display_data"
    }
   ],
   "source": [
    "temp = application_train[\"NAME_HOUSING_TYPE\"].value_counts()\n",
    "\n",
    "temp_y0 = []\n",
    "temp_y1 = []\n",
    "for val in temp.index:\n",
    "    temp_y1.append(np.sum(application_train[\"TARGET\"][application_train[\"NAME_HOUSING_TYPE\"]==val] == 1))\n",
    "    temp_y0.append(np.sum(application_train[\"TARGET\"][application_train[\"NAME_HOUSING_TYPE\"]==val] == 0))    \n",
    "trace1 = go.Bar(\n",
    "    x = temp.index,\n",
    "    y = np.asarray(temp_y1) * (100/ temp.sum()),\n",
    "    name='YES',\n",
    "    marker=dict(\n",
    "        color='rgb(158,0,225)',\n",
    "        line=dict(\n",
    "            color='rgb(8,48,107)',\n",
    "            width=1.5,\n",
    "        )\n",
    "    ),\n",
    "    opacity=0.6\n",
    ")\n",
    "trace2 = go.Bar(\n",
    "    x = temp.index,\n",
    "    y = np.asarray(temp_y0) * (100/ temp.sum()), \n",
    "    name='NO',\n",
    "    marker=dict(\n",
    "        color='rgb(0,100,225)',\n",
    "        line=dict(\n",
    "            color='rgb(100,100,225)',\n",
    "            width=1.5,\n",
    "        )\n",
    "    ),\n",
    "    opacity=0.6\n",
    ")\n",
    "\n",
    "data = [trace1, trace2]\n",
    "layout = go.Layout(\n",
    "    xaxis=dict(tickangle=0),\n",
    "    title=\"Percentage of Applicant Housing type with respect to loan repayment\",\n",
    ")\n",
    "\n",
    "fig = go.Figure(data=data, layout=layout)\n",
    "iplot(fig, filename='text-hover-bar')"
   ]
  },
  {
   "cell_type": "code",
   "execution_count": 94,
   "metadata": {},
   "outputs": [
    {
     "data": {
      "application/vnd.plotly.v1+json": {
       "data": [
        {
         "marker": {
          "color": "rgb(158,0,225)",
          "line": {
           "color": "rgb(8,48,107)",
           "width": 1.5
          }
         },
         "name": "YES",
         "opacity": 0.6,
         "type": "bar",
         "x": [
          "Business Entity Type 3",
          "XNA",
          "Self-employed",
          "Other",
          "Medicine",
          "Business Entity Type 2",
          "Government",
          "School",
          "Trade: type 7",
          "Kindergarten",
          "Construction",
          "Business Entity Type 1",
          "Transport: type 4",
          "Trade: type 3",
          "Industry: type 9",
          "Industry: type 3",
          "Security",
          "Housing",
          "Industry: type 11",
          "Military",
          "Bank",
          "Agriculture",
          "Police",
          "Transport: type 2",
          "Postal",
          "Security Ministries",
          "Trade: type 2",
          "Restaurant",
          "Services",
          "University",
          "Industry: type 7",
          "Transport: type 3",
          "Industry: type 1",
          "Hotel",
          "Electricity",
          "Industry: type 4",
          "Trade: type 6",
          "Industry: type 5",
          "Insurance",
          "Telecom",
          "Emergency",
          "Industry: type 2",
          "Advertising",
          "Realtor",
          "Culture",
          "Industry: type 12",
          "Trade: type 1",
          "Mobile",
          "Legal Services",
          "Cleaning",
          "Transport: type 1",
          "Industry: type 6",
          "Industry: type 10",
          "Religion",
          "Industry: type 13",
          "Trade: type 4",
          "Trade: type 5",
          "Industry: type 8"
         ],
         "y": [
          2.0561866079587396,
          0.972322941293157,
          1.2708488476834976,
          0.4146193144310285,
          0.23966622332209256,
          0.2926724572454319,
          0.23608911551131506,
          0.17105079167899687,
          0.24064179817957734,
          0.15739274367421005,
          0.2552754210418489,
          0.1583683185316948,
          0.1629210011999571,
          0.11739417451733435,
          0.07316811431135797,
          0.11316668346823366,
          0.10536208460835549,
          0.07642003050297388,
          0.07609483888381229,
          0.04390086858681478,
          0.04227491049100683,
          0.08357424612452888,
          0.03804741944190614,
          0.05593295849579365,
          0.05918487468740956,
          0.031218395439512735,
          0.0432504853484916,
          0.06894062326225729,
          0.03381992839280546,
          0.021137455245503416,
          0.03414512001196705,
          0.060810832783217514,
          0.037397036203582965,
          0.02016188038801864,
          0.02048707200718023,
          0.028942054105381598,
          0.00943055695568614,
          0.01333285638562523,
          0.011056515051494093,
          0.014308431243110004,
          0.01300766476646364,
          0.010731323432332502,
          0.011381706670655684,
          0.013658048004786821,
          0.0068290240023934105,
          0.004552682668262274,
          0.01008094019400932,
          0.00943055695568614,
          0.007804598859878184,
          0.00943055695568614,
          0.0029267245724543187,
          0.002601532953292728,
          0.002276341334131137,
          0.001625958095807955,
          0.0029267245724543187,
          0.000650383238323182,
          0.000975574857484773,
          0.000975574857484773
         ]
        },
        {
         "marker": {
          "color": "rgb(0,100,225)",
          "line": {
           "color": "rgb(100,100,225)",
           "width": 1.5
          }
         },
         "name": "NO",
         "opacity": 0.6,
         "type": "bar",
         "x": [
          "Business Entity Type 3",
          "XNA",
          "Self-employed",
          "Other",
          "Medicine",
          "Business Entity Type 2",
          "Government",
          "School",
          "Trade: type 7",
          "Kindergarten",
          "Construction",
          "Business Entity Type 1",
          "Transport: type 4",
          "Trade: type 3",
          "Industry: type 9",
          "Industry: type 3",
          "Security",
          "Housing",
          "Industry: type 11",
          "Military",
          "Bank",
          "Agriculture",
          "Police",
          "Transport: type 2",
          "Postal",
          "Security Ministries",
          "Trade: type 2",
          "Restaurant",
          "Services",
          "University",
          "Industry: type 7",
          "Transport: type 3",
          "Industry: type 1",
          "Hotel",
          "Electricity",
          "Industry: type 4",
          "Trade: type 6",
          "Industry: type 5",
          "Insurance",
          "Telecom",
          "Emergency",
          "Industry: type 2",
          "Advertising",
          "Realtor",
          "Culture",
          "Industry: type 12",
          "Trade: type 1",
          "Mobile",
          "Legal Services",
          "Cleaning",
          "Transport: type 1",
          "Industry: type 6",
          "Industry: type 10",
          "Religion",
          "Industry: type 13",
          "Trade: type 4",
          "Trade: type 5",
          "Industry: type 8"
         ],
         "y": [
          20.054241962076155,
          17.03483777816078,
          11.220411627551535,
          5.010552468041794,
          3.4002035699535953,
          3.1390746997668377,
          3.1472044902458776,
          2.7208782775250318,
          2.305933771474842,
          2.079925596157536,
          1.9303374513432041,
          1.7875783305312656,
          1.5924633590343111,
          1.0181749595949414,
          1.0220772590248806,
          0.9528114441434616,
          0.9505351028093304,
          0.8854967789770123,
          0.8032232993291297,
          0.8126538562848159,
          0.7729804787471017,
          0.7144459872980155,
          0.7232261610153784,
          0.6607893701363529,
          0.6422534478441422,
          0.6107098607854679,
          0.5746135910585313,
          0.519981399039384,
          0.47835687178670033,
          0.4103918233819278,
          0.39088032623223234,
          0.325191619161591,
          0.30047705610531006,
          0.29397322372207824,
          0.2884449661963312,
          0.2562509958993337,
          0.19576535473527779,
          0.18145692349216777,
          0.18308288158797573,
          0.173327133013128,
          0.16909964196402733,
          0.13820643814367617,
          0.12812549794966685,
          0.1151178331832032,
          0.11641859965984958,
          0.1154430248023648,
          0.10308574327422435,
          0.0936551863185382,
          0.09137884498440707,
          0.07511926402632751,
          0.06243679087902547,
          0.03381992839280546,
          0.03316954515448228,
          0.02601532953292728,
          0.01886111391137228,
          0.02016188038801864,
          0.014958814481433186,
          0.0068290240023934105
         ]
        }
       ],
       "layout": {
        "title": "Percentage of Organizations type with respect to loan repayment",
        "xaxis": {
         "tickangle": 45
        }
       }
      },
      "text/html": [
       "<div id=\"1c128f12-7533-40a8-87e0-c85feb2190bc\" style=\"height: 525px; width: 100%;\" class=\"plotly-graph-div\"></div><script type=\"text/javascript\">require([\"plotly\"], function(Plotly) { window.PLOTLYENV=window.PLOTLYENV || {};window.PLOTLYENV.BASE_URL=\"https://plot.ly\";Plotly.newPlot(\"1c128f12-7533-40a8-87e0-c85feb2190bc\", [{\"type\": \"bar\", \"x\": [\"Business Entity Type 3\", \"XNA\", \"Self-employed\", \"Other\", \"Medicine\", \"Business Entity Type 2\", \"Government\", \"School\", \"Trade: type 7\", \"Kindergarten\", \"Construction\", \"Business Entity Type 1\", \"Transport: type 4\", \"Trade: type 3\", \"Industry: type 9\", \"Industry: type 3\", \"Security\", \"Housing\", \"Industry: type 11\", \"Military\", \"Bank\", \"Agriculture\", \"Police\", \"Transport: type 2\", \"Postal\", \"Security Ministries\", \"Trade: type 2\", \"Restaurant\", \"Services\", \"University\", \"Industry: type 7\", \"Transport: type 3\", \"Industry: type 1\", \"Hotel\", \"Electricity\", \"Industry: type 4\", \"Trade: type 6\", \"Industry: type 5\", \"Insurance\", \"Telecom\", \"Emergency\", \"Industry: type 2\", \"Advertising\", \"Realtor\", \"Culture\", \"Industry: type 12\", \"Trade: type 1\", \"Mobile\", \"Legal Services\", \"Cleaning\", \"Transport: type 1\", \"Industry: type 6\", \"Industry: type 10\", \"Religion\", \"Industry: type 13\", \"Trade: type 4\", \"Trade: type 5\", \"Industry: type 8\"], \"y\": [2.0561866079587396, 0.972322941293157, 1.2708488476834976, 0.4146193144310285, 0.23966622332209256, 0.2926724572454319, 0.23608911551131506, 0.17105079167899687, 0.24064179817957734, 0.15739274367421005, 0.2552754210418489, 0.1583683185316948, 0.1629210011999571, 0.11739417451733435, 0.07316811431135797, 0.11316668346823366, 0.10536208460835549, 0.07642003050297388, 0.07609483888381229, 0.04390086858681478, 0.04227491049100683, 0.08357424612452888, 0.03804741944190614, 0.05593295849579365, 0.05918487468740956, 0.031218395439512735, 0.0432504853484916, 0.06894062326225729, 0.03381992839280546, 0.021137455245503416, 0.03414512001196705, 0.060810832783217514, 0.037397036203582965, 0.02016188038801864, 0.02048707200718023, 0.028942054105381598, 0.00943055695568614, 0.01333285638562523, 0.011056515051494093, 0.014308431243110004, 0.01300766476646364, 0.010731323432332502, 0.011381706670655684, 0.013658048004786821, 0.0068290240023934105, 0.004552682668262274, 0.01008094019400932, 0.00943055695568614, 0.007804598859878184, 0.00943055695568614, 0.0029267245724543187, 0.002601532953292728, 0.002276341334131137, 0.001625958095807955, 0.0029267245724543187, 0.000650383238323182, 0.000975574857484773, 0.000975574857484773], \"name\": \"YES\", \"marker\": {\"color\": \"rgb(158,0,225)\", \"line\": {\"color\": \"rgb(8,48,107)\", \"width\": 1.5}}, \"opacity\": 0.6}, {\"type\": \"bar\", \"x\": [\"Business Entity Type 3\", \"XNA\", \"Self-employed\", \"Other\", \"Medicine\", \"Business Entity Type 2\", \"Government\", \"School\", \"Trade: type 7\", \"Kindergarten\", \"Construction\", \"Business Entity Type 1\", \"Transport: type 4\", \"Trade: type 3\", \"Industry: type 9\", \"Industry: type 3\", \"Security\", \"Housing\", \"Industry: type 11\", \"Military\", \"Bank\", \"Agriculture\", \"Police\", \"Transport: type 2\", \"Postal\", \"Security Ministries\", \"Trade: type 2\", \"Restaurant\", \"Services\", \"University\", \"Industry: type 7\", \"Transport: type 3\", \"Industry: type 1\", \"Hotel\", \"Electricity\", \"Industry: type 4\", \"Trade: type 6\", \"Industry: type 5\", \"Insurance\", \"Telecom\", \"Emergency\", \"Industry: type 2\", \"Advertising\", \"Realtor\", \"Culture\", \"Industry: type 12\", \"Trade: type 1\", \"Mobile\", \"Legal Services\", \"Cleaning\", \"Transport: type 1\", \"Industry: type 6\", \"Industry: type 10\", \"Religion\", \"Industry: type 13\", \"Trade: type 4\", \"Trade: type 5\", \"Industry: type 8\"], \"y\": [20.054241962076155, 17.03483777816078, 11.220411627551535, 5.010552468041794, 3.4002035699535953, 3.1390746997668377, 3.1472044902458776, 2.7208782775250318, 2.305933771474842, 2.079925596157536, 1.9303374513432041, 1.7875783305312656, 1.5924633590343111, 1.0181749595949414, 1.0220772590248806, 0.9528114441434616, 0.9505351028093304, 0.8854967789770123, 0.8032232993291297, 0.8126538562848159, 0.7729804787471017, 0.7144459872980155, 0.7232261610153784, 0.6607893701363529, 0.6422534478441422, 0.6107098607854679, 0.5746135910585313, 0.519981399039384, 0.47835687178670033, 0.4103918233819278, 0.39088032623223234, 0.325191619161591, 0.30047705610531006, 0.29397322372207824, 0.2884449661963312, 0.2562509958993337, 0.19576535473527779, 0.18145692349216777, 0.18308288158797573, 0.173327133013128, 0.16909964196402733, 0.13820643814367617, 0.12812549794966685, 0.1151178331832032, 0.11641859965984958, 0.1154430248023648, 0.10308574327422435, 0.0936551863185382, 0.09137884498440707, 0.07511926402632751, 0.06243679087902547, 0.03381992839280546, 0.03316954515448228, 0.02601532953292728, 0.01886111391137228, 0.02016188038801864, 0.014958814481433186, 0.0068290240023934105], \"name\": \"NO\", \"marker\": {\"color\": \"rgb(0,100,225)\", \"line\": {\"color\": \"rgb(100,100,225)\", \"width\": 1.5}}, \"opacity\": 0.6}], {\"xaxis\": {\"tickangle\": 45}, \"title\": \"Percentage of Organizations type with respect to loan repayment\"}, {\"showLink\": true, \"linkText\": \"Export to plot.ly\"})});</script>"
      ],
      "text/vnd.plotly.v1+html": [
       "<div id=\"1c128f12-7533-40a8-87e0-c85feb2190bc\" style=\"height: 525px; width: 100%;\" class=\"plotly-graph-div\"></div><script type=\"text/javascript\">require([\"plotly\"], function(Plotly) { window.PLOTLYENV=window.PLOTLYENV || {};window.PLOTLYENV.BASE_URL=\"https://plot.ly\";Plotly.newPlot(\"1c128f12-7533-40a8-87e0-c85feb2190bc\", [{\"type\": \"bar\", \"x\": [\"Business Entity Type 3\", \"XNA\", \"Self-employed\", \"Other\", \"Medicine\", \"Business Entity Type 2\", \"Government\", \"School\", \"Trade: type 7\", \"Kindergarten\", \"Construction\", \"Business Entity Type 1\", \"Transport: type 4\", \"Trade: type 3\", \"Industry: type 9\", \"Industry: type 3\", \"Security\", \"Housing\", \"Industry: type 11\", \"Military\", \"Bank\", \"Agriculture\", \"Police\", \"Transport: type 2\", \"Postal\", \"Security Ministries\", \"Trade: type 2\", \"Restaurant\", \"Services\", \"University\", \"Industry: type 7\", \"Transport: type 3\", \"Industry: type 1\", \"Hotel\", \"Electricity\", \"Industry: type 4\", \"Trade: type 6\", \"Industry: type 5\", \"Insurance\", \"Telecom\", \"Emergency\", \"Industry: type 2\", \"Advertising\", \"Realtor\", \"Culture\", \"Industry: type 12\", \"Trade: type 1\", \"Mobile\", \"Legal Services\", \"Cleaning\", \"Transport: type 1\", \"Industry: type 6\", \"Industry: type 10\", \"Religion\", \"Industry: type 13\", \"Trade: type 4\", \"Trade: type 5\", \"Industry: type 8\"], \"y\": [2.0561866079587396, 0.972322941293157, 1.2708488476834976, 0.4146193144310285, 0.23966622332209256, 0.2926724572454319, 0.23608911551131506, 0.17105079167899687, 0.24064179817957734, 0.15739274367421005, 0.2552754210418489, 0.1583683185316948, 0.1629210011999571, 0.11739417451733435, 0.07316811431135797, 0.11316668346823366, 0.10536208460835549, 0.07642003050297388, 0.07609483888381229, 0.04390086858681478, 0.04227491049100683, 0.08357424612452888, 0.03804741944190614, 0.05593295849579365, 0.05918487468740956, 0.031218395439512735, 0.0432504853484916, 0.06894062326225729, 0.03381992839280546, 0.021137455245503416, 0.03414512001196705, 0.060810832783217514, 0.037397036203582965, 0.02016188038801864, 0.02048707200718023, 0.028942054105381598, 0.00943055695568614, 0.01333285638562523, 0.011056515051494093, 0.014308431243110004, 0.01300766476646364, 0.010731323432332502, 0.011381706670655684, 0.013658048004786821, 0.0068290240023934105, 0.004552682668262274, 0.01008094019400932, 0.00943055695568614, 0.007804598859878184, 0.00943055695568614, 0.0029267245724543187, 0.002601532953292728, 0.002276341334131137, 0.001625958095807955, 0.0029267245724543187, 0.000650383238323182, 0.000975574857484773, 0.000975574857484773], \"name\": \"YES\", \"marker\": {\"color\": \"rgb(158,0,225)\", \"line\": {\"color\": \"rgb(8,48,107)\", \"width\": 1.5}}, \"opacity\": 0.6}, {\"type\": \"bar\", \"x\": [\"Business Entity Type 3\", \"XNA\", \"Self-employed\", \"Other\", \"Medicine\", \"Business Entity Type 2\", \"Government\", \"School\", \"Trade: type 7\", \"Kindergarten\", \"Construction\", \"Business Entity Type 1\", \"Transport: type 4\", \"Trade: type 3\", \"Industry: type 9\", \"Industry: type 3\", \"Security\", \"Housing\", \"Industry: type 11\", \"Military\", \"Bank\", \"Agriculture\", \"Police\", \"Transport: type 2\", \"Postal\", \"Security Ministries\", \"Trade: type 2\", \"Restaurant\", \"Services\", \"University\", \"Industry: type 7\", \"Transport: type 3\", \"Industry: type 1\", \"Hotel\", \"Electricity\", \"Industry: type 4\", \"Trade: type 6\", \"Industry: type 5\", \"Insurance\", \"Telecom\", \"Emergency\", \"Industry: type 2\", \"Advertising\", \"Realtor\", \"Culture\", \"Industry: type 12\", \"Trade: type 1\", \"Mobile\", \"Legal Services\", \"Cleaning\", \"Transport: type 1\", \"Industry: type 6\", \"Industry: type 10\", \"Religion\", \"Industry: type 13\", \"Trade: type 4\", \"Trade: type 5\", \"Industry: type 8\"], \"y\": [20.054241962076155, 17.03483777816078, 11.220411627551535, 5.010552468041794, 3.4002035699535953, 3.1390746997668377, 3.1472044902458776, 2.7208782775250318, 2.305933771474842, 2.079925596157536, 1.9303374513432041, 1.7875783305312656, 1.5924633590343111, 1.0181749595949414, 1.0220772590248806, 0.9528114441434616, 0.9505351028093304, 0.8854967789770123, 0.8032232993291297, 0.8126538562848159, 0.7729804787471017, 0.7144459872980155, 0.7232261610153784, 0.6607893701363529, 0.6422534478441422, 0.6107098607854679, 0.5746135910585313, 0.519981399039384, 0.47835687178670033, 0.4103918233819278, 0.39088032623223234, 0.325191619161591, 0.30047705610531006, 0.29397322372207824, 0.2884449661963312, 0.2562509958993337, 0.19576535473527779, 0.18145692349216777, 0.18308288158797573, 0.173327133013128, 0.16909964196402733, 0.13820643814367617, 0.12812549794966685, 0.1151178331832032, 0.11641859965984958, 0.1154430248023648, 0.10308574327422435, 0.0936551863185382, 0.09137884498440707, 0.07511926402632751, 0.06243679087902547, 0.03381992839280546, 0.03316954515448228, 0.02601532953292728, 0.01886111391137228, 0.02016188038801864, 0.014958814481433186, 0.0068290240023934105], \"name\": \"NO\", \"marker\": {\"color\": \"rgb(0,100,225)\", \"line\": {\"color\": \"rgb(100,100,225)\", \"width\": 1.5}}, \"opacity\": 0.6}], {\"xaxis\": {\"tickangle\": 45}, \"title\": \"Percentage of Organizations type with respect to loan repayment\"}, {\"showLink\": true, \"linkText\": \"Export to plot.ly\"})});</script>"
      ]
     },
     "metadata": {},
     "output_type": "display_data"
    }
   ],
   "source": [
    "temp = application_train[\"ORGANIZATION_TYPE\"].value_counts()\n",
    "\n",
    "temp_y0 = []\n",
    "temp_y1 = []\n",
    "for val in temp.index:\n",
    "    temp_y1.append(np.sum(application_train[\"TARGET\"][application_train[\"ORGANIZATION_TYPE\"]==val] == 1))\n",
    "    temp_y0.append(np.sum(application_train[\"TARGET\"][application_train[\"ORGANIZATION_TYPE\"]==val] == 0))    \n",
    "trace1 = go.Bar(\n",
    "    x = temp.index,\n",
    "    y = np.asarray(temp_y1) * (100/ temp.sum()),\n",
    "    name='YES',\n",
    "    marker=dict(\n",
    "        color='rgb(158,0,225)',\n",
    "        line=dict(\n",
    "            color='rgb(8,48,107)',\n",
    "            width=1.5,\n",
    "        )\n",
    "    ),\n",
    "    opacity=0.6\n",
    ")\n",
    "trace2 = go.Bar(\n",
    "    x = temp.index,\n",
    "    y = np.asarray(temp_y0) * (100/ temp.sum()), \n",
    "    name='NO',\n",
    "    marker=dict(\n",
    "        color='rgb(0,100,225)',\n",
    "        line=dict(\n",
    "            color='rgb(100,100,225)',\n",
    "            width=1.5,\n",
    "        )\n",
    "    ),\n",
    "    opacity=0.6\n",
    ")\n",
    "\n",
    "data = [trace1, trace2]\n",
    "layout = go.Layout(\n",
    "    xaxis=dict(tickangle=45),\n",
    "    title=\"Percentage of Organizations type with respect to loan repayment\",\n",
    ")\n",
    "\n",
    "fig = go.Figure(data=data, layout=layout)\n",
    "iplot(fig, filename='text-hover-bar')"
   ]
  },
  {
   "cell_type": "code",
   "execution_count": 102,
   "metadata": {},
   "outputs": [
    {
     "data": {
      "application/vnd.plotly.v1+json": {
       "data": [
        {
         "marker": {
          "color": "rgb(158,202,225)",
          "line": {
           "color": "rgb(8,48,107)",
           "width": 1.5
          }
         },
         "opacity": 0.6,
         "type": "bar",
         "x": [
          "Business Entity Type 3",
          "XNA",
          "Self-employed",
          "Other",
          "Medicine",
          "Business Entity Type 2",
          "Government",
          "School",
          "Trade: type 7",
          "Kindergarten",
          "Construction",
          "Business Entity Type 1",
          "Transport: type 4",
          "Trade: type 3",
          "Industry: type 9",
          "Industry: type 3",
          "Security",
          "Housing",
          "Industry: type 11",
          "Military",
          "Bank",
          "Agriculture",
          "Police",
          "Transport: type 2",
          "Postal",
          "Security Ministries",
          "Trade: type 2",
          "Restaurant",
          "Services",
          "University",
          "Industry: type 7",
          "Transport: type 3",
          "Industry: type 1",
          "Hotel",
          "Electricity",
          "Industry: type 4",
          "Trade: type 6",
          "Industry: type 5",
          "Insurance",
          "Telecom",
          "Emergency",
          "Industry: type 2",
          "Advertising",
          "Realtor",
          "Culture",
          "Industry: type 12",
          "Trade: type 1",
          "Mobile",
          "Legal Services",
          "Cleaning",
          "Transport: type 1",
          "Industry: type 6",
          "Industry: type 10",
          "Religion",
          "Industry: type 13",
          "Trade: type 4",
          "Trade: type 5",
          "Industry: type 8"
         ],
         "y": [
          67992,
          55374,
          38412,
          16683,
          11193,
          10553,
          10404,
          8893,
          7831,
          6880,
          6721,
          5984,
          5398,
          3492,
          3368,
          3278,
          3247,
          2958,
          2704,
          2634,
          2507,
          2454,
          2341,
          2204,
          2157,
          1974,
          1900,
          1811,
          1575,
          1327,
          1307,
          1187,
          1039,
          966,
          950,
          877,
          631,
          599,
          597,
          577,
          560,
          458,
          429,
          396,
          379,
          369,
          348,
          317,
          305,
          260,
          201,
          112,
          109,
          85,
          67,
          64,
          49,
          24
         ]
        }
       ],
       "layout": {
        "title": "Types of Organizations for whom Applicants work",
        "xaxis": {
         "tickangle": 45
        }
       }
      },
      "text/html": [
       "<div id=\"477be944-933e-4de3-9437-0e279a63dd4b\" style=\"height: 525px; width: 100%;\" class=\"plotly-graph-div\"></div><script type=\"text/javascript\">require([\"plotly\"], function(Plotly) { window.PLOTLYENV=window.PLOTLYENV || {};window.PLOTLYENV.BASE_URL=\"https://plot.ly\";Plotly.newPlot(\"477be944-933e-4de3-9437-0e279a63dd4b\", [{\"type\": \"bar\", \"x\": [\"Business Entity Type 3\", \"XNA\", \"Self-employed\", \"Other\", \"Medicine\", \"Business Entity Type 2\", \"Government\", \"School\", \"Trade: type 7\", \"Kindergarten\", \"Construction\", \"Business Entity Type 1\", \"Transport: type 4\", \"Trade: type 3\", \"Industry: type 9\", \"Industry: type 3\", \"Security\", \"Housing\", \"Industry: type 11\", \"Military\", \"Bank\", \"Agriculture\", \"Police\", \"Transport: type 2\", \"Postal\", \"Security Ministries\", \"Trade: type 2\", \"Restaurant\", \"Services\", \"University\", \"Industry: type 7\", \"Transport: type 3\", \"Industry: type 1\", \"Hotel\", \"Electricity\", \"Industry: type 4\", \"Trade: type 6\", \"Industry: type 5\", \"Insurance\", \"Telecom\", \"Emergency\", \"Industry: type 2\", \"Advertising\", \"Realtor\", \"Culture\", \"Industry: type 12\", \"Trade: type 1\", \"Mobile\", \"Legal Services\", \"Cleaning\", \"Transport: type 1\", \"Industry: type 6\", \"Industry: type 10\", \"Religion\", \"Industry: type 13\", \"Trade: type 4\", \"Trade: type 5\", \"Industry: type 8\"], \"y\": [67992, 55374, 38412, 16683, 11193, 10553, 10404, 8893, 7831, 6880, 6721, 5984, 5398, 3492, 3368, 3278, 3247, 2958, 2704, 2634, 2507, 2454, 2341, 2204, 2157, 1974, 1900, 1811, 1575, 1327, 1307, 1187, 1039, 966, 950, 877, 631, 599, 597, 577, 560, 458, 429, 396, 379, 369, 348, 317, 305, 260, 201, 112, 109, 85, 67, 64, 49, 24], \"marker\": {\"color\": \"rgb(158,202,225)\", \"line\": {\"color\": \"rgb(8,48,107)\", \"width\": 1.5}}, \"opacity\": 0.6}], {\"xaxis\": {\"tickangle\": 45}, \"title\": \"Types of Organizations for whom Applicants work\"}, {\"showLink\": true, \"linkText\": \"Export to plot.ly\"})});</script>"
      ],
      "text/vnd.plotly.v1+html": [
       "<div id=\"477be944-933e-4de3-9437-0e279a63dd4b\" style=\"height: 525px; width: 100%;\" class=\"plotly-graph-div\"></div><script type=\"text/javascript\">require([\"plotly\"], function(Plotly) { window.PLOTLYENV=window.PLOTLYENV || {};window.PLOTLYENV.BASE_URL=\"https://plot.ly\";Plotly.newPlot(\"477be944-933e-4de3-9437-0e279a63dd4b\", [{\"type\": \"bar\", \"x\": [\"Business Entity Type 3\", \"XNA\", \"Self-employed\", \"Other\", \"Medicine\", \"Business Entity Type 2\", \"Government\", \"School\", \"Trade: type 7\", \"Kindergarten\", \"Construction\", \"Business Entity Type 1\", \"Transport: type 4\", \"Trade: type 3\", \"Industry: type 9\", \"Industry: type 3\", \"Security\", \"Housing\", \"Industry: type 11\", \"Military\", \"Bank\", \"Agriculture\", \"Police\", \"Transport: type 2\", \"Postal\", \"Security Ministries\", \"Trade: type 2\", \"Restaurant\", \"Services\", \"University\", \"Industry: type 7\", \"Transport: type 3\", \"Industry: type 1\", \"Hotel\", \"Electricity\", \"Industry: type 4\", \"Trade: type 6\", \"Industry: type 5\", \"Insurance\", \"Telecom\", \"Emergency\", \"Industry: type 2\", \"Advertising\", \"Realtor\", \"Culture\", \"Industry: type 12\", \"Trade: type 1\", \"Mobile\", \"Legal Services\", \"Cleaning\", \"Transport: type 1\", \"Industry: type 6\", \"Industry: type 10\", \"Religion\", \"Industry: type 13\", \"Trade: type 4\", \"Trade: type 5\", \"Industry: type 8\"], \"y\": [67992, 55374, 38412, 16683, 11193, 10553, 10404, 8893, 7831, 6880, 6721, 5984, 5398, 3492, 3368, 3278, 3247, 2958, 2704, 2634, 2507, 2454, 2341, 2204, 2157, 1974, 1900, 1811, 1575, 1327, 1307, 1187, 1039, 966, 950, 877, 631, 599, 597, 577, 560, 458, 429, 396, 379, 369, 348, 317, 305, 260, 201, 112, 109, 85, 67, 64, 49, 24], \"marker\": {\"color\": \"rgb(158,202,225)\", \"line\": {\"color\": \"rgb(8,48,107)\", \"width\": 1.5}}, \"opacity\": 0.6}], {\"xaxis\": {\"tickangle\": 45}, \"title\": \"Types of Organizations for whom Applicants work\"}, {\"showLink\": true, \"linkText\": \"Export to plot.ly\"})});</script>"
      ]
     },
     "metadata": {},
     "output_type": "display_data"
    }
   ],
   "source": [
    "import plotly.plotly as py\n",
    "import plotly.graph_objs as go\n",
    "\n",
    "temp = application_train[\"ORGANIZATION_TYPE\"].value_counts()\n",
    "trace0 = go.Bar(\n",
    "    x=temp.index,\n",
    "    y=temp.values,\n",
    "    marker=dict(\n",
    "        color='rgb(158,202,225)',\n",
    "        line=dict(\n",
    "            color='rgb(8,48,107)',\n",
    "            width=1.5,\n",
    "        )\n",
    "    ),\n",
    "    opacity=0.6\n",
    ")\n",
    "\n",
    "data = [trace0]\n",
    "layout = go.Layout(\n",
    "    xaxis=dict(tickangle=45),\n",
    "    title='Types of Organizations for whom Applicants work',\n",
    ")\n",
    "\n",
    "fig = go.Figure(data=data, layout=layout)\n",
    "iplot(fig, filename='text-hover-bar')"
   ]
  },
  {
   "cell_type": "code",
   "execution_count": null,
   "metadata": {
    "collapsed": true
   },
   "outputs": [],
   "source": []
  },
  {
   "cell_type": "code",
   "execution_count": null,
   "metadata": {
    "collapsed": true
   },
   "outputs": [],
   "source": []
  },
  {
   "cell_type": "code",
   "execution_count": null,
   "metadata": {
    "collapsed": true
   },
   "outputs": [],
   "source": []
  }
 ],
 "metadata": {
  "kernelspec": {
   "display_name": "Python 3",
   "language": "python",
   "name": "python3"
  },
  "language_info": {
   "codemirror_mode": {
    "name": "ipython",
    "version": 3
   },
   "file_extension": ".py",
   "mimetype": "text/x-python",
   "name": "python",
   "nbconvert_exporter": "python",
   "pygments_lexer": "ipython3",
   "version": "3.6.3"
  }
 },
 "nbformat": 4,
 "nbformat_minor": 2
}
